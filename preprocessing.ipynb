{
 "cells": [
  {
   "cell_type": "code",
   "execution_count": null,
   "id": "e6885863",
   "metadata": {},
   "outputs": [],
   "source": [
    "import os\n",
    "exec(open(os.path.join(os.environ[\"SPARK_HOME\"], 'python/pyspark/shell.py')).read())"
   ]
  },
  {
   "cell_type": "markdown",
   "id": "5e664710",
   "metadata": {},
   "source": [
    "#### Add the config file within the spark context"
   ]
  },
  {
   "cell_type": "code",
   "execution_count": 2,
   "id": "9d8c54cd",
   "metadata": {},
   "outputs": [],
   "source": [
    "sc.addFile('/Users/sumangangopadhyay/complex-spark-transformations/config.py')"
   ]
  },
  {
   "cell_type": "markdown",
   "id": "fb0ded59",
   "metadata": {},
   "source": [
    "#### Import the relevant libraries"
   ]
  },
  {
   "cell_type": "code",
   "execution_count": 3,
   "id": "d631ca35",
   "metadata": {},
   "outputs": [],
   "source": [
    "import config as cf\n",
    "from pyspark.sql import functions as func"
   ]
  },
  {
   "cell_type": "markdown",
   "id": "820ec4ad",
   "metadata": {},
   "source": [
    "#### Get the relevant configurations in variables"
   ]
  },
  {
   "cell_type": "code",
   "execution_count": 4,
   "id": "b52f54c9",
   "metadata": {},
   "outputs": [],
   "source": [
    "data_path = cf.data_path()\n",
    "primary_response_variables = cf.primary_response_variables().split(',')\n",
    "secondary_response_variables = cf.secondary_response_variables().split(',')\n",
    "primary_explanatory_variables = cf.primary_explanatory_variables().split(',')"
   ]
  },
  {
   "cell_type": "markdown",
   "id": "f67fa78d",
   "metadata": {},
   "source": [
    "#### Read the data"
   ]
  },
  {
   "cell_type": "code",
   "execution_count": 5,
   "id": "25330ac1",
   "metadata": {},
   "outputs": [],
   "source": [
    "df = spark.read.csv(data_path, header=True)"
   ]
  },
  {
   "cell_type": "markdown",
   "id": "be79c4bf",
   "metadata": {},
   "source": [
    "#### Remove the spaces from the column names so that it's easier to use the columns later on"
   ]
  },
  {
   "cell_type": "code",
   "execution_count": 6,
   "id": "61af4c58",
   "metadata": {},
   "outputs": [],
   "source": [
    "df_with_no_spaces_in_colm_names = df.select([func.col(col).alias(col.replace(' ', '_')) for col in df.columns])"
   ]
  },
  {
   "cell_type": "markdown",
   "id": "baa0c3dd",
   "metadata": {},
   "source": [
    "#### Get the count of distinct values of the attributes which form the response variables ( In statistical terms, response variables are the variables on the y-axis, i.e. the variables whose variations are being observed)"
   ]
  },
  {
   "cell_type": "code",
   "execution_count": 7,
   "id": "309e2a73",
   "metadata": {},
   "outputs": [],
   "source": [
    "unique_count_of_primary_response_variables = df_with_no_spaces_in_colm_names\\\n",
    ".select([func.countDistinct(col)\\\n",
    "         .alias('unique_'+ col) for col in primary_response_variables])"
   ]
  },
  {
   "cell_type": "code",
   "execution_count": 8,
   "id": "530cd9cc",
   "metadata": {},
   "outputs": [
    {
     "name": "stderr",
     "output_type": "stream",
     "text": [
      "21/10/15 18:39:11 WARN package: Truncated the string representation of a plan since it was too large. This behavior can be adjusted by setting 'spark.sql.debug.maxToStringFields'.\n",
      "[Stage 1:=======>                                                 (2 + 14) / 16]\r"
     ]
    },
    {
     "name": "stdout",
     "output_type": "stream",
     "text": [
      "+-------------------------+-----------------+---------------------+------------------+---------------------------+---------------------+\n",
      "|unique_Registration_State|unique_Plate_Type|unique_Violation_Code|unique_Law_Section|unique_Violation_Legal_Code|unique_Issuing_Agency|\n",
      "+-------------------------+-----------------+---------------------+------------------+---------------------------+---------------------+\n",
      "|                       67|               86|                  100|                 8|                          4|                   17|\n",
      "+-------------------------+-----------------+---------------------+------------------+---------------------------+---------------------+\n",
      "\n"
     ]
    },
    {
     "name": "stderr",
     "output_type": "stream",
     "text": [
      "\r",
      "                                                                                \r"
     ]
    }
   ],
   "source": [
    "unique_count_of_primary_response_variables.show()"
   ]
  },
  {
   "cell_type": "code",
   "execution_count": 9,
   "id": "0ec764c6",
   "metadata": {},
   "outputs": [],
   "source": [
    "unique_count_of_secondary_response_variables = df_with_no_spaces_in_colm_names\\\n",
    ".select([func.countDistinct(col)\\\n",
    "         .alias('unique_'+ col) for col in secondary_response_variables])"
   ]
  },
  {
   "cell_type": "code",
   "execution_count": 10,
   "id": "410cbc69",
   "metadata": {},
   "outputs": [
    {
     "name": "stderr",
     "output_type": "stream",
     "text": [
      "[Stage 4:==========>                                              (3 + 13) / 16]\r"
     ]
    },
    {
     "name": "stdout",
     "output_type": "stream",
     "text": [
      "+-----------------------+-------------------+-------------------+\n",
      "|unique_Violation_County|unique_Issuer_Squad|unique_Vehicle_Year|\n",
      "+-----------------------+-------------------+-------------------+\n",
      "|                     12|                 49|                100|\n",
      "+-----------------------+-------------------+-------------------+\n",
      "\n"
     ]
    },
    {
     "name": "stderr",
     "output_type": "stream",
     "text": [
      "\r",
      "                                                                                \r"
     ]
    }
   ],
   "source": [
    "unique_count_of_secondary_response_variables.show()"
   ]
  },
  {
   "cell_type": "markdown",
   "id": "1bda2328",
   "metadata": {},
   "source": [
    "#### Check the NaNs and Nulls in the explanatory variables. These variables typically go in the x-axis. Statistically, we are interested in the extent to which the variation in the response variables are associated with the variation in these variables"
   ]
  },
  {
   "cell_type": "code",
   "execution_count": 11,
   "id": "33c05cce",
   "metadata": {},
   "outputs": [],
   "source": [
    "nan_null_count_in_primary_explanatory_variables = df_with_no_spaces_in_colm_names\\\n",
    ".select([func.count(func.when(func.isnan(col) | func.col(col).isNull(), col))\\\n",
    "         .alias('null_nan_count_'+ col) for col in primary_explanatory_variables])"
   ]
  },
  {
   "cell_type": "code",
   "execution_count": 12,
   "id": "55f618d4",
   "metadata": {},
   "outputs": [
    {
     "name": "stderr",
     "output_type": "stream",
     "text": [
      "\r",
      "[Stage 7:>                                                        (0 + 16) / 16]\r"
     ]
    },
    {
     "name": "stdout",
     "output_type": "stream",
     "text": [
      "+-------------------------+-----------------------------+\n",
      "|null_nan_count_Issue_Date|null_nan_count_Violation_Time|\n",
      "+-------------------------+-----------------------------+\n",
      "|                        0|                           63|\n",
      "+-------------------------+-----------------------------+\n",
      "\n"
     ]
    },
    {
     "name": "stderr",
     "output_type": "stream",
     "text": [
      "\r",
      "[Stage 7:==========>                                              (3 + 13) / 16]\r",
      "\r",
      "                                                                                \r"
     ]
    }
   ],
   "source": [
    "nan_null_count_in_primary_explanatory_variables.show()"
   ]
  },
  {
   "cell_type": "markdown",
   "id": "c9046ee7",
   "metadata": {},
   "source": [
    "#### Creating a new categorical explanatory variable (Categorical variables are factors with 2 or more levels, e.g. a rainbow is a factor with 7 levels)"
   ]
  },
  {
   "cell_type": "code",
   "execution_count": 13,
   "id": "d301c9e6",
   "metadata": {},
   "outputs": [],
   "source": [
    "df_with_no_spaces_in_colm_names = df_with_no_spaces_in_colm_names\\\n",
    ".withColumn('Violation_AM_or_PM', \\\n",
    "            func.when(func.isnan(df_with_no_spaces_in_colm_names.Violation_Time) \\\n",
    "                      | func.col('Violation_Time').isNull()\\\n",
    "                      , func.lit(None))\\\n",
    "            .otherwise(func.substring(df_with_no_spaces_in_colm_names.Violation_Time,5,1)))"
   ]
  },
  {
   "cell_type": "markdown",
   "id": "5dc34071",
   "metadata": {},
   "source": [
    "#### Verify that the new column has been populated correctly"
   ]
  },
  {
   "cell_type": "code",
   "execution_count": 14,
   "id": "4e193e2a",
   "metadata": {},
   "outputs": [
    {
     "name": "stdout",
     "output_type": "stream",
     "text": [
      "+--------------+------------------+\n",
      "|Violation_Time|Violation_AM_or_PM|\n",
      "+--------------+------------------+\n",
      "|         0143A|                 A|\n",
      "|         0400P|                 P|\n",
      "|         0233P|                 P|\n",
      "|         1120A|                 A|\n",
      "|         0555P|                 P|\n",
      "|         0852P|                 P|\n",
      "|         0215A|                 A|\n",
      "|         0758A|                 A|\n",
      "|         1005A|                 A|\n",
      "|         0845A|                 A|\n",
      "+--------------+------------------+\n",
      "only showing top 10 rows\n",
      "\n"
     ]
    }
   ],
   "source": [
    "df_with_no_spaces_in_colm_names\\\n",
    ".select('Violation_Time','Violation_AM_or_PM')\\\n",
    ".filter(df_with_no_spaces_in_colm_names.Violation_Time.isNotNull())\\\n",
    ".show(10)"
   ]
  },
  {
   "cell_type": "code",
   "execution_count": 15,
   "id": "8663eb57",
   "metadata": {},
   "outputs": [
    {
     "name": "stderr",
     "output_type": "stream",
     "text": [
      "[Stage 11:>                                                         (0 + 4) / 4]\r"
     ]
    },
    {
     "name": "stdout",
     "output_type": "stream",
     "text": [
      "+--------------+------------------+\n",
      "|Violation_Time|Violation_AM_or_PM|\n",
      "+--------------+------------------+\n",
      "|          null|              null|\n",
      "|          null|              null|\n",
      "|          null|              null|\n",
      "|          null|              null|\n",
      "|          null|              null|\n",
      "|          null|              null|\n",
      "|          null|              null|\n",
      "|          null|              null|\n",
      "|          null|              null|\n",
      "|          null|              null|\n",
      "+--------------+------------------+\n",
      "only showing top 10 rows\n",
      "\n"
     ]
    },
    {
     "name": "stderr",
     "output_type": "stream",
     "text": [
      "\r",
      "                                                                                \r"
     ]
    }
   ],
   "source": [
    "df_with_no_spaces_in_colm_names\\\n",
    ".select('Violation_Time','Violation_AM_or_PM')\\\n",
    ".filter(df_with_no_spaces_in_colm_names.Violation_Time.isNull())\\\n",
    ".show(10)"
   ]
  },
  {
   "cell_type": "code",
   "execution_count": 16,
   "id": "445636b9",
   "metadata": {},
   "outputs": [
    {
     "name": "stderr",
     "output_type": "stream",
     "text": [
      "[Stage 14:>                                                       (0 + 11) / 11]\r"
     ]
    },
    {
     "name": "stdout",
     "output_type": "stream",
     "text": [
      "+--------------+------------------+\n",
      "|Violation_Time|Violation_AM_or_PM|\n",
      "+--------------+------------------+\n",
      "+--------------+------------------+\n",
      "\n"
     ]
    },
    {
     "name": "stderr",
     "output_type": "stream",
     "text": [
      "\r",
      "[Stage 14:==========>                                              (2 + 9) / 11]\r",
      "\r",
      "                                                                                \r"
     ]
    }
   ],
   "source": [
    "df_with_no_spaces_in_colm_names\\\n",
    ".select('Violation_Time','Violation_AM_or_PM')\\\n",
    ".filter(func.isnan(df_with_no_spaces_in_colm_names.Violation_Time))\\\n",
    ".show(10)"
   ]
  },
  {
   "cell_type": "code",
   "execution_count": null,
   "id": "cc3c976c",
   "metadata": {},
   "outputs": [],
   "source": []
  }
 ],
 "metadata": {
  "kernelspec": {
   "display_name": "Python 3 (ipykernel)",
   "language": "python",
   "name": "python3"
  },
  "language_info": {
   "codemirror_mode": {
    "name": "ipython",
    "version": 3
   },
   "file_extension": ".py",
   "mimetype": "text/x-python",
   "name": "python",
   "nbconvert_exporter": "python",
   "pygments_lexer": "ipython3",
   "version": "3.8.2"
  }
 },
 "nbformat": 4,
 "nbformat_minor": 5
}
