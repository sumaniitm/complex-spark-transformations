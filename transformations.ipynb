{
 "cells": [
  {
   "cell_type": "code",
   "execution_count": 1,
   "id": "d3148a00",
   "metadata": {},
   "outputs": [
    {
     "name": "stderr",
     "output_type": "stream",
     "text": [
      "21/10/23 22:21:20 WARN Utils: Your hostname, Sumans-MacBook-Pro.local resolves to a loopback address: 127.0.0.1; using 192.168.0.100 instead (on interface en0)\n",
      "21/10/23 22:21:20 WARN Utils: Set SPARK_LOCAL_IP if you need to bind to another address\n",
      "21/10/23 22:21:21 WARN NativeCodeLoader: Unable to load native-hadoop library for your platform... using builtin-java classes where applicable\n",
      "Using Spark's default log4j profile: org/apache/spark/log4j-defaults.properties\n",
      "Setting default log level to \"WARN\".\n",
      "To adjust logging level use sc.setLogLevel(newLevel). For SparkR, use setLogLevel(newLevel).\n"
     ]
    },
    {
     "name": "stdout",
     "output_type": "stream",
     "text": [
      "Welcome to\n",
      "      ____              __\n",
      "     / __/__  ___ _____/ /__\n",
      "    _\\ \\/ _ \\/ _ `/ __/  '_/\n",
      "   /__ / .__/\\_,_/_/ /_/\\_\\   version 3.0.3\n",
      "      /_/\n",
      "\n",
      "Using Python version 3.8.2 (default, Apr  8 2021 23:19:18)\n",
      "SparkSession available as 'spark'.\n"
     ]
    }
   ],
   "source": [
    "import os\n",
    "exec(open(os.path.join(os.environ[\"SPARK_HOME\"], 'python/pyspark/shell.py')).read())"
   ]
  },
  {
   "cell_type": "markdown",
   "id": "ebd18a82",
   "metadata": {},
   "source": [
    "#### First let's read in the processed and cleansed data"
   ]
  },
  {
   "cell_type": "code",
   "execution_count": 2,
   "id": "a4ba21fd",
   "metadata": {},
   "outputs": [],
   "source": [
    "sc.addFile('/Users/sumangangopadhyay/complex-spark-transformations/config.py')"
   ]
  },
  {
   "cell_type": "code",
   "execution_count": 3,
   "id": "50792855",
   "metadata": {},
   "outputs": [],
   "source": [
    "import config as cf\n",
    "from pyspark.sql import functions as func\n",
    "from pyspark.sql.types import IntegerType"
   ]
  },
  {
   "cell_type": "code",
   "execution_count": 4,
   "id": "b44dbe3e",
   "metadata": {},
   "outputs": [],
   "source": [
    "clean_data_path = cf.clean_data_path()\n",
    "primary_response_variables = cf.primary_response_variables().split(',')\n",
    "secondary_response_variables = cf.secondary_response_variables().split(',')\n",
    "primary_explanatory_variables = cf.primary_explanatory_variables().split(',')"
   ]
  },
  {
   "cell_type": "code",
   "execution_count": 5,
   "id": "5d4a6a62",
   "metadata": {},
   "outputs": [],
   "source": [
    "df = spark.read.csv(clean_data_path, header=True)"
   ]
  },
  {
   "cell_type": "markdown",
   "id": "beeefc49",
   "metadata": {},
   "source": [
    "#### Let us look for seasonality, i.e. if the incidents of violation are more in particular month(s). Note how the Issue_Month column is sorted using type casting, since this column wasn't derived as an integer before"
   ]
  },
  {
   "cell_type": "code",
   "execution_count": 6,
   "id": "05fa1b53",
   "metadata": {},
   "outputs": [
    {
     "name": "stderr",
     "output_type": "stream",
     "text": [
      "21/10/23 22:21:42 WARN package: Truncated the string representation of a plan since it was too large. This behavior can be adjusted by setting 'spark.sql.debug.maxToStringFields'.\n",
      "[Stage 1:===>                                                     (1 + 15) / 16]\r"
     ]
    },
    {
     "name": "stdout",
     "output_type": "stream",
     "text": [
      "+-----------+-------+\n",
      "|Issue_Month|  count|\n",
      "+-----------+-------+\n",
      "|          1| 877365|\n",
      "|          2| 826967|\n",
      "|          3| 964737|\n",
      "|          4| 888402|\n",
      "|          5|1020244|\n",
      "|          6| 852187|\n",
      "|          7|    370|\n",
      "|          8|    309|\n",
      "|          9|    367|\n",
      "|         10|    274|\n",
      "|         11|    338|\n",
      "|         12|    358|\n",
      "+-----------+-------+\n",
      "\n"
     ]
    },
    {
     "name": "stderr",
     "output_type": "stream",
     "text": [
      "\r",
      "                                                                                \r"
     ]
    }
   ],
   "source": [
    "df.groupBy(df.Issue_Month).count().orderBy(df.Issue_Month.cast(IntegerType())).show()"
   ]
  },
  {
   "cell_type": "markdown",
   "id": "bb0b2ee4",
   "metadata": {},
   "source": [
    "#### It is quite clear that the violations are most common during the first half of the year, so let's dig deeper in the first half"
   ]
  },
  {
   "cell_type": "code",
   "execution_count": 7,
   "id": "55057522",
   "metadata": {},
   "outputs": [],
   "source": [
    "df_first6months = df.filter((df.Issue_Month.cast(IntegerType()) >= 1) \\\n",
    "                           | (df.Issue_Month.cast(IntegerType()) <= 6))"
   ]
  },
  {
   "cell_type": "code",
   "execution_count": 8,
   "id": "a95b4080",
   "metadata": {},
   "outputs": [],
   "source": [
    "df_temp = df_first6months.groupBy(df_first6months.Issue_DayofMonth).count()"
   ]
  },
  {
   "cell_type": "code",
   "execution_count": 9,
   "id": "3666ba89",
   "metadata": {},
   "outputs": [
    {
     "data": {
      "text/plain": [
       "['Issue_DayofMonth', 'count']"
      ]
     },
     "execution_count": 9,
     "metadata": {},
     "output_type": "execute_result"
    }
   ],
   "source": [
    "df_temp.columns"
   ]
  },
  {
   "cell_type": "code",
   "execution_count": 10,
   "id": "ec0f4304",
   "metadata": {},
   "outputs": [],
   "source": [
    "df_temp.createOrReplaceTempView('t_count_per_day_of_month')"
   ]
  },
  {
   "cell_type": "code",
   "execution_count": 11,
   "id": "4242958d",
   "metadata": {},
   "outputs": [],
   "source": [
    "df_temp_standardised = spark.sql(\"select \\\n",
    "                                 t1.Issue_DayofMonth, t1.count \\\n",
    ",round((t1.count - t2.avg_issue_count)/t2.stddev_issue_count,0) as standardised_issue_count \\\n",
    ",round((t1.count - t2.min_count)/(t2.max_count - t2.min_count),0) as normalised_issue_count \\\n",
    "from t_count_per_day_of_month t1 \\\n",
    "join \\\n",
    "(select avg(count) as avg_issue_count, stddev(count) as stddev_issue_count, min(count) as min_count \\\n",
    ",max(count) as max_count from t_count_per_day_of_month)t2 \\\n",
    "on 1=1\")"
   ]
  },
  {
   "cell_type": "code",
   "execution_count": 12,
   "id": "62250b19",
   "metadata": {},
   "outputs": [
    {
     "name": "stderr",
     "output_type": "stream",
     "text": [
      "                                                                                \r"
     ]
    },
    {
     "name": "stdout",
     "output_type": "stream",
     "text": [
      "+----------------+------+------------------------+----------------------+\n",
      "|Issue_DayofMonth| count|standardised_issue_count|normalised_issue_count|\n",
      "+----------------+------+------------------------+----------------------+\n",
      "|               1|192311|                     1.0|                   1.0|\n",
      "|               2|195915|                     1.0|                   1.0|\n",
      "|               3|225398|                     2.0|                   1.0|\n",
      "|               4|179977|                     0.0|                   1.0|\n",
      "|               5|162463|                     0.0|                   1.0|\n",
      "|               6|211419|                     1.0|                   1.0|\n",
      "|               7|179266|                     0.0|                   1.0|\n",
      "|               8|187606|                     0.0|                   1.0|\n",
      "|               9|170336|                     0.0|                   1.0|\n",
      "|              10|182476|                     0.0|                   1.0|\n",
      "|              11|166438|                     0.0|                   1.0|\n",
      "|              12|162547|                     0.0|                   1.0|\n",
      "|              13|202336|                     1.0|                   1.0|\n",
      "|              14|140262|                    -1.0|                   0.0|\n",
      "|              15|171100|                     0.0|                   1.0|\n",
      "|              16|190189|                     0.0|                   1.0|\n",
      "|              17|195997|                     1.0|                   1.0|\n",
      "|              18|160471|                     0.0|                   1.0|\n",
      "|              19|170672|                     0.0|                   1.0|\n",
      "|              20|216504|                     1.0|                   1.0|\n",
      "|              21|190748|                     0.0|                   1.0|\n",
      "|              22|170821|                     0.0|                   1.0|\n",
      "|              23|201773|                     1.0|                   1.0|\n",
      "|              24|207561|                     1.0|                   1.0|\n",
      "|              25|154025|                    -1.0|                   1.0|\n",
      "|              26|158211|                    -1.0|                   1.0|\n",
      "|              27|216891|                     1.0|                   1.0|\n",
      "|              28|153615|                    -1.0|                   1.0|\n",
      "|              29| 81421|                    -3.0|                   0.0|\n",
      "|              30|131880|                    -1.0|                   0.0|\n",
      "|              31|101289|                    -2.0|                   0.0|\n",
      "+----------------+------+------------------------+----------------------+\n",
      "\n"
     ]
    }
   ],
   "source": [
    "df_temp_standardised.orderBy(df_temp_standardised.Issue_DayofMonth.cast(IntegerType())).show(40)"
   ]
  },
  {
   "cell_type": "markdown",
   "id": "054fe365",
   "metadata": {},
   "source": [
    "#### From the Standardised scores of Days of Months above, it seems that the violations are more common in the start and end of the months"
   ]
  },
  {
   "cell_type": "code",
   "execution_count": 13,
   "id": "47eabb3c",
   "metadata": {
    "scrolled": true
   },
   "outputs": [
    {
     "data": {
      "text/plain": [
       "['Summons_Number',\n",
       " 'Plate_ID',\n",
       " 'Registration_State',\n",
       " 'Plate_Type',\n",
       " 'Violation_Code',\n",
       " 'Vehicle_Body_Type',\n",
       " 'Vehicle_Make',\n",
       " 'Issuing_Agency',\n",
       " 'Street_Code1',\n",
       " 'Street_Code2',\n",
       " 'Street_Code3',\n",
       " 'Vehicle_Expiration_Date',\n",
       " 'Violation_Location',\n",
       " 'Violation_Precinct',\n",
       " 'Issuer_Precinct',\n",
       " 'Issuer_Code',\n",
       " 'Issuer_Command',\n",
       " 'Issuer_Squad',\n",
       " 'Violation_Time',\n",
       " 'Time_First_Observed',\n",
       " 'Violation_County',\n",
       " 'Violation_In_Front_Of_Or_Opposite',\n",
       " 'House_Number',\n",
       " 'Street_Name',\n",
       " 'Intersecting_Street',\n",
       " 'Date_First_Observed',\n",
       " 'Law_Section',\n",
       " 'Sub_Division',\n",
       " 'Violation_Legal_Code',\n",
       " 'Vehicle_Color',\n",
       " 'Vehicle_Year',\n",
       " 'Meter_Number',\n",
       " 'Feet_From_Curb',\n",
       " 'Violation_Post_Code',\n",
       " 'Violation_Description',\n",
       " 'Violation_AM_or_PM',\n",
       " 'Issue_Date',\n",
       " 'Issue_Year',\n",
       " 'Issue_Month',\n",
       " 'Issue_DayofWeek',\n",
       " 'Issue_DayofMonth',\n",
       " 'Violation_Time_Hour']"
      ]
     },
     "execution_count": 13,
     "metadata": {},
     "output_type": "execute_result"
    }
   ],
   "source": [
    "df.columns"
   ]
  },
  {
   "cell_type": "code",
   "execution_count": 14,
   "id": "6447985b",
   "metadata": {},
   "outputs": [],
   "source": [
    "df_temp = df_first6months.groupBy(df_first6months.Issue_DayofWeek).count()"
   ]
  },
  {
   "cell_type": "code",
   "execution_count": 15,
   "id": "798e168d",
   "metadata": {},
   "outputs": [],
   "source": [
    "df_temp.createOrReplaceTempView('t_count_per_day_of_week')"
   ]
  },
  {
   "cell_type": "code",
   "execution_count": 16,
   "id": "ef31afb0",
   "metadata": {},
   "outputs": [
    {
     "data": {
      "text/plain": [
       "['Issue_DayofWeek', 'count']"
      ]
     },
     "execution_count": 16,
     "metadata": {},
     "output_type": "execute_result"
    }
   ],
   "source": [
    "df_temp.columns"
   ]
  },
  {
   "cell_type": "code",
   "execution_count": 17,
   "id": "af192b2c",
   "metadata": {},
   "outputs": [],
   "source": [
    "df_temp_standardised = spark.sql(\"select \\\n",
    "                                 t1.Issue_DayofWeek, t1.count \\\n",
    ",round((t1.count - t2.avg_issue_count)/t2.stddev_issue_count,0) as standardised_issue_count \\\n",
    ",round((t1.count - t2.min_count)/(t2.max_count - t2.min_count),0) as normalised_issue_count \\\n",
    "from t_count_per_day_of_week t1 \\\n",
    "join \\\n",
    "(select avg(count) as avg_issue_count, stddev(count) as stddev_issue_count, min(count) as min_count \\\n",
    ",max(count) as max_count from t_count_per_day_of_week)t2 \\\n",
    "on 1=1\")"
   ]
  },
  {
   "cell_type": "code",
   "execution_count": 18,
   "id": "7eba1126",
   "metadata": {},
   "outputs": [
    {
     "name": "stderr",
     "output_type": "stream",
     "text": [
      "[Stage 8:=====================================================>   (15 + 1) / 16]\r"
     ]
    },
    {
     "name": "stdout",
     "output_type": "stream",
     "text": [
      "+---------------+------+------------------------+----------------------+\n",
      "|Issue_DayofWeek| count|standardised_issue_count|normalised_issue_count|\n",
      "+---------------+------+------------------------+----------------------+\n",
      "|              1|218238|                    -2.0|                   0.0|\n",
      "|              2|869368|                     0.0|                   1.0|\n",
      "|              3|961584|                     1.0|                   1.0|\n",
      "|              4|927707|                     1.0|                   1.0|\n",
      "|              5|962045|                     1.0|                   1.0|\n",
      "|              6|932620|                     1.0|                   1.0|\n",
      "|              7|560356|                    -1.0|                   0.0|\n",
      "+---------------+------+------------------------+----------------------+\n",
      "\n"
     ]
    },
    {
     "name": "stderr",
     "output_type": "stream",
     "text": [
      "\r",
      "                                                                                \r"
     ]
    }
   ],
   "source": [
    "df_temp_standardised.orderBy(df_temp_standardised.Issue_DayofWeek.cast(IntegerType())).show(40)"
   ]
  },
  {
   "cell_type": "markdown",
   "id": "676b01b9",
   "metadata": {},
   "source": [
    "#### Quite expectedly, the violations are more during the weekdays"
   ]
  },
  {
   "cell_type": "markdown",
   "id": "2d4229c5",
   "metadata": {},
   "source": [
    "#### Let us now switch our attention towards a more fine-grained view to see if the violations of specific types (Laws) are being committed by specific type of vehicles (based on their registration states) at specific places (counties where these violations occured)"
   ]
  },
  {
   "cell_type": "code",
   "execution_count": 48,
   "id": "7a5584bb",
   "metadata": {},
   "outputs": [],
   "source": [
    "df_temp = df_first6months.groupBy(df_first6months.Issue_DayofWeek,\\\n",
    "                                 df_first6months.Violation_County,\\\n",
    "                                 df_first6months.Law_Section,\\\n",
    "                                 df_first6months.Registration_State)\\\n",
    ".count()"
   ]
  },
  {
   "cell_type": "markdown",
   "id": "7aa834da",
   "metadata": {},
   "source": [
    "#### To observe the distribution of violations per Law Section, County and Registration, let's pivot the count of violations by days of week. Also we are only keeping those combinations for which violations exist throughout the week"
   ]
  },
  {
   "cell_type": "code",
   "execution_count": 21,
   "id": "fe3bdad7",
   "metadata": {},
   "outputs": [
    {
     "name": "stderr",
     "output_type": "stream",
     "text": [
      "[Stage 18:================================>                    (124 + 16) / 200]\r"
     ]
    },
    {
     "name": "stdout",
     "output_type": "stream",
     "text": [
      "+-----------+----------------+------------------+---+----+----+----+----+----+----+\n",
      "|Law_Section|Violation_County|Registration_State|  1|   2|   3|   4|   5|   6|   7|\n",
      "+-----------+----------------+------------------+---+----+----+----+----+----+----+\n",
      "|        408|              BX|                CT|621|1767|1804|1533|1839|1889|1801|\n",
      "|        408|               Q|                ND|  1|   2|  11|   5|   7|   8|   5|\n",
      "|       1111|              BX|                NC| 26|  19|  24|  26|  25|  34|  25|\n",
      "|       1111|              BX|                VA| 26|  33|  37|  35|  37|  38|  37|\n",
      "|        408|               R|                NJ|141| 529| 516| 616| 549| 546| 307|\n",
      "|        408|              BX|                IA|  3|  23|  30|  20|  22|  26|  18|\n",
      "|       1111|              BX|                CA|  4|   5|   8|   2|   8|   5|   5|\n",
      "|        408|               K|                WA| 34| 232| 265| 169| 220| 224| 141|\n",
      "|        408|               K|                NV|  9|  27|  36|  22|  30|  33|  24|\n",
      "|       1111|              BK|                DC| 15|   7|   2|   2|   5|   5|  11|\n",
      "+-----------+----------------+------------------+---+----+----+----+----+----+----+\n",
      "only showing top 10 rows\n",
      "\n"
     ]
    },
    {
     "name": "stderr",
     "output_type": "stream",
     "text": [
      "\r",
      "[Stage 18:=============================================>       (172 + 16) / 200]\r",
      "\r",
      "                                                                                \r"
     ]
    }
   ],
   "source": [
    "df_pivot = df_temp.groupBy('Law_Section','Violation_County','Registration_State').pivot('Issue_DayofWeek')\\\n",
    ".agg(func.sum('count').alias('count'))\n",
    "df_pivot = df_pivot.dropna(how='any')\n",
    "df_pivot.show(10)"
   ]
  },
  {
   "cell_type": "code",
   "execution_count": 30,
   "id": "6804a6e4",
   "metadata": {},
   "outputs": [],
   "source": [
    "df_temp.createOrReplaceTempView('max_violation_for_combination')"
   ]
  },
  {
   "cell_type": "code",
   "execution_count": 35,
   "id": "b1f362c3",
   "metadata": {},
   "outputs": [
    {
     "name": "stderr",
     "output_type": "stream",
     "text": [
      "[Stage 158:===>                                                   (1 + 15) / 16]\r"
     ]
    },
    {
     "name": "stdout",
     "output_type": "stream",
     "text": [
      "+---------------+----------------+-----------+------------------+-----+\n",
      "|Issue_DayofWeek|Violation_County|Law_Section|Registration_State|count|\n",
      "+---------------+----------------+-----------+------------------+-----+\n",
      "|              1|              BX|        408|                MD|  159|\n",
      "|              2|              BX|        408|                MD|  438|\n",
      "|              3|              BX|        408|                MD|  475|\n",
      "|              4|              BX|        408|                MD|  355|\n",
      "|              5|              BX|        408|                MD|  432|\n",
      "|              6|              BX|        408|                MD|  463|\n",
      "|              7|              BX|        408|                MD|  504|\n",
      "+---------------+----------------+-----------+------------------+-----+\n",
      "\n"
     ]
    },
    {
     "name": "stderr",
     "output_type": "stream",
     "text": [
      "\r",
      "[Stage 158:=====================================>                 (11 + 5) / 16]\r",
      "\r",
      "                                                                                \r"
     ]
    }
   ],
   "source": [
    "df_temp.filter((df_temp.Violation_County == 'BX') \\\n",
    "              & (df_temp.Law_Section == '408') & (df_temp.Registration_State == 'MD'))\\\n",
    ".orderBy('Issue_DayofWeek').show(100)"
   ]
  },
  {
   "cell_type": "code",
   "execution_count": 38,
   "id": "c8ec4c42",
   "metadata": {},
   "outputs": [
    {
     "name": "stderr",
     "output_type": "stream",
     "text": [
      "[Stage 173:===============================================>    (182 + 16) / 200]\r"
     ]
    },
    {
     "name": "stdout",
     "output_type": "stream",
     "text": [
      "+--------------+-------------------+---------------------+------------+\n",
      "|t1_Law_Section|t1_Violation_County|t1_Registration_State|t1_max_count|\n",
      "+--------------+-------------------+---------------------+------------+\n",
      "|           408|                 NY|                   NY|      233692|\n",
      "|           408|                  K|                   NY|      164702|\n",
      "|           408|                  Q|                   NY|      139776|\n",
      "|           408|                 BX|                   NY|       78039|\n",
      "|          1180|                 BK|                   NY|       54279|\n",
      "|           408|                 NY|                   NJ|       49157|\n",
      "|          1180|                 QN|                   NY|       45226|\n",
      "|          1180|                 BX|                   NY|       15586|\n",
      "|          1111|                 QN|                   NY|       12380|\n",
      "|           408|                  K|                   NJ|       12237|\n",
      "+--------------+-------------------+---------------------+------------+\n",
      "only showing top 10 rows\n",
      "\n"
     ]
    },
    {
     "name": "stderr",
     "output_type": "stream",
     "text": [
      "\r",
      "                                                                                \r"
     ]
    }
   ],
   "source": [
    "spark.sql(\"select t1.* \\\n",
    "from \\\n",
    "(select Law_Section as t1_Law_Section, Violation_County as t1_Violation_County\\\n",
    ", Registration_State as t1_Registration_State, max(count) as t1_max_count \\\n",
    "from max_violation_for_combination group by Law_Section, Violation_County, Registration_State)t1 \\\n",
    "join \\\n",
    "(select Law_Section, Violation_County, Registration_State, count from max_violation_for_combination)t2 \\\n",
    "on t2.Law_Section = t1.t1_Law_Section \\\n",
    "and t2.Violation_County = t1.t1_Violation_County \\\n",
    "and t2.Registration_State = t1.t1_Registration_State \\\n",
    "and t2.count = t1.t1_max_count\").orderBy('t1_max_count',ascending=False).show(10)"
   ]
  },
  {
   "cell_type": "markdown",
   "id": "edea06db",
   "metadata": {},
   "source": [
    "#### The above result shows that the Law 408 was the most violated in the NY county and by the vehicles registered in the state NY. This is quite expected since the entire data set is about the New York State. Let us see which combination comes on top if we take out NY from the data"
   ]
  },
  {
   "cell_type": "code",
   "execution_count": 58,
   "id": "9064abab",
   "metadata": {},
   "outputs": [],
   "source": [
    "df_temp = df_first6months.groupBy(df_first6months.Issue_DayofWeek,\\\n",
    "                                 df_first6months.Violation_County,\\\n",
    "                                 df_first6months.Law_Section,\\\n",
    "                                 df_first6months.Registration_State)\\\n",
    ".count()"
   ]
  },
  {
   "cell_type": "code",
   "execution_count": 59,
   "id": "569e9866",
   "metadata": {},
   "outputs": [],
   "source": [
    "df_temp = df_temp.filter((df_temp.Registration_State != 'NY')&(df_temp.Violation_County != 'NY'))"
   ]
  },
  {
   "cell_type": "code",
   "execution_count": 61,
   "id": "48cafd01",
   "metadata": {},
   "outputs": [],
   "source": [
    "df_temp.createOrReplaceTempView('max_violation_for_combination')"
   ]
  },
  {
   "cell_type": "code",
   "execution_count": 62,
   "id": "7e51aa9c",
   "metadata": {},
   "outputs": [
    {
     "name": "stderr",
     "output_type": "stream",
     "text": [
      "[Stage 221:====================================>               (142 + 16) / 200]\r"
     ]
    },
    {
     "name": "stdout",
     "output_type": "stream",
     "text": [
      "+--------------+-------------------+---------------------+------------+\n",
      "|t1_Law_Section|t1_Violation_County|t1_Registration_State|t1_max_count|\n",
      "+--------------+-------------------+---------------------+------------+\n",
      "|           408|                  K|                   NJ|       12237|\n",
      "|           408|                  K|                   PA|        6896|\n",
      "|           408|                  Q|                   NJ|        6676|\n",
      "|           408|                 BX|                   NJ|        6477|\n",
      "|          1180|                 BK|                   NJ|        4153|\n",
      "|           408|                  K|                   FL|        3482|\n",
      "|           408|                 BX|                   PA|        3418|\n",
      "|           408|                  Q|                   PA|        3254|\n",
      "|           408|                  Q|                   FL|        2126|\n",
      "|           408|                  K|                   CT|        2122|\n",
      "+--------------+-------------------+---------------------+------------+\n",
      "only showing top 10 rows\n",
      "\n"
     ]
    },
    {
     "name": "stderr",
     "output_type": "stream",
     "text": [
      "\r",
      "                                                                                \r"
     ]
    }
   ],
   "source": [
    "spark.sql(\"select t1.* \\\n",
    "from \\\n",
    "(select Law_Section as t1_Law_Section, Violation_County as t1_Violation_County\\\n",
    ", Registration_State as t1_Registration_State, max(count) as t1_max_count \\\n",
    "from max_violation_for_combination group by Law_Section, Violation_County, Registration_State)t1 \\\n",
    "join \\\n",
    "(select Law_Section, Violation_County, Registration_State, count from max_violation_for_combination)t2 \\\n",
    "on t2.Law_Section = t1.t1_Law_Section \\\n",
    "and t2.Violation_County = t1.t1_Violation_County \\\n",
    "and t2.Registration_State = t1.t1_Registration_State \\\n",
    "and t2.count = t1.t1_max_count\").orderBy('t1_max_count',ascending=False).show(10)"
   ]
  },
  {
   "cell_type": "markdown",
   "id": "137cc89e",
   "metadata": {},
   "source": [
    "#### We can see from above that once again the Law 408 was the most violated but in the K county and by the vehicles registered in the state NJ. "
   ]
  },
  {
   "cell_type": "markdown",
   "id": "98d90cdb",
   "metadata": {},
   "source": [
    "#### Since the number of rows at this level will be very high for visual inspection, we reduce the group to one attribute only"
   ]
  },
  {
   "cell_type": "code",
   "execution_count": 23,
   "id": "66492f0d",
   "metadata": {},
   "outputs": [
    {
     "name": "stderr",
     "output_type": "stream",
     "text": [
      "[Stage 55:===============================================>     (178 + 16) / 200]\r"
     ]
    },
    {
     "name": "stdout",
     "output_type": "stream",
     "text": [
      "+-----------+------+------+------+------+------+------+------+\n",
      "|Law_Section|     1|     2|     3|     4|     5|     6|     7|\n",
      "+-----------+------+------+------+------+------+------+------+\n",
      "|       1111| 34443| 35862| 34880| 38101| 39287| 42399| 33278|\n",
      "|        408|183795|716190|798817|742957|791164|750898|527078|\n",
      "+-----------+------+------+------+------+------+------+------+\n",
      "\n"
     ]
    },
    {
     "name": "stderr",
     "output_type": "stream",
     "text": [
      "\r",
      "                                                                                \r"
     ]
    }
   ],
   "source": [
    "df_pivot = df_temp.groupBy('Law_Section').pivot('Issue_DayofWeek').sum('count')\n",
    "df_pivot = df_pivot.dropna(how='any')\n",
    "df_pivot.show(10)"
   ]
  },
  {
   "cell_type": "markdown",
   "id": "cc0ce47d",
   "metadata": {},
   "source": [
    "#### The above cell shows that the Law 408 is the most violated throughout the week"
   ]
  },
  {
   "cell_type": "code",
   "execution_count": 24,
   "id": "5ac2a998",
   "metadata": {},
   "outputs": [
    {
     "name": "stderr",
     "output_type": "stream",
     "text": [
      "[Stage 79:===========================================>         (165 + 16) / 200]\r"
     ]
    },
    {
     "name": "stdout",
     "output_type": "stream",
     "text": [
      "+----------------+-----+------+------+------+------+------+------+\n",
      "|Violation_County|    1|     2|     3|     4|     5|     6|     7|\n",
      "+----------------+-----+------+------+------+------+------+------+\n",
      "|               K|48271|180749|206674|171812|206556|184264|126507|\n",
      "|              MN| 2361|  6931|  6944|  7133|  7213|  7925|  2414|\n",
      "|               Q|31438|149151|158740|159233|163532|155902|121437|\n",
      "|              BX|32732|109182|118499|110442|119448|121496| 77730|\n",
      "|              QN|13373| 49600| 53168| 63327| 56714| 62787| 13225|\n",
      "|              BK|12231| 66244| 70032| 78169| 73213| 73937| 10759|\n",
      "|               R| 3821| 10320| 10054| 10834| 10193|  9816|  7960|\n",
      "|              NY|69942|283391|323105|311528|309883|300884|195832|\n",
      "|              ST| 2409| 11104| 11432| 12462| 12445| 13162|  2755|\n",
      "+----------------+-----+------+------+------+------+------+------+\n",
      "\n"
     ]
    },
    {
     "name": "stderr",
     "output_type": "stream",
     "text": [
      "\r",
      "                                                                                \r"
     ]
    }
   ],
   "source": [
    "df_pivot = df_temp.groupBy('Violation_County').pivot('Issue_DayofWeek').sum('count')\n",
    "df_pivot = df_pivot.dropna(how='any')\n",
    "df_pivot.show(100)"
   ]
  },
  {
   "cell_type": "code",
   "execution_count": 25,
   "id": "e3b72d83",
   "metadata": {
    "scrolled": true
   },
   "outputs": [
    {
     "name": "stderr",
     "output_type": "stream",
     "text": [
      "[Stage 103:====================================>               (142 + 16) / 200]\r"
     ]
    },
    {
     "name": "stdout",
     "output_type": "stream",
     "text": [
      "+------------------+------+------+------+------+------+------+------+\n",
      "|Registration_State|     1|     2|     3|     4|     5|     6|     7|\n",
      "+------------------+------+------+------+------+------+------+------+\n",
      "|                AZ|   660|  1714|  2010|  2086|  2116|  2088|  1705|\n",
      "|                SC|   498|  1765|  1784|  1541|  1843|  1767|  1197|\n",
      "|                NS|    18|    64|    46|    39|    69|    48|    38|\n",
      "|                LA|    80|   296|   298|   218|   328|   302|   167|\n",
      "|                MN|    97|  1929|  1676|  1636|  1671|  1897|  1177|\n",
      "|                NJ| 20403| 74933| 83198| 81906| 82570| 81754| 51061|\n",
      "|                DC|   166|   308|   287|   180|   299|   365|   324|\n",
      "|                OR|    76|   504|   518|   434|   535|   431|   124|\n",
      "|                99|  1290|  2510|  2964|  2575|  2673|  2361|  1682|\n",
      "|                VA|  2066|  5695|  5625|  4752|  5669|  6026|  4534|\n",
      "|                RI|   417|   942|   961|   736|   910|   950|   898|\n",
      "|                WY|     4|    35|    29|    22|    40|    33|    25|\n",
      "|                KY|   111|   300|   297|   251|   290|   321|   225|\n",
      "|                BC|     3|     7|    10|     7|    10|    12|     5|\n",
      "|                NH|   254|   629|   673|   555|   689|   746|   573|\n",
      "|                MI|   366|  1211|  1230|  1057|  1233|  1241|   893|\n",
      "|                NV|    39|   123|   133|   110|   115|   123|    82|\n",
      "|                GV|     8|    43|    95|    81|    59|    53|     9|\n",
      "|                QB|   193|   327|   258|   207|   339|   374|   300|\n",
      "|                WI|    87|   358|   414|   315|   374|   385|   194|\n",
      "|                ID|    21|   125|   156|   111|   133|   161|    56|\n",
      "|                CA|   502|  2060|  2221|  1679|  2144|  2154|  1393|\n",
      "|                NE|    33|   118|   117|    82|   113|   135|   106|\n",
      "|                CT|  4437| 11036| 11584|  9927| 11612| 11426| 10381|\n",
      "|                MT|    19|    70|    97|    84|    85|    82|    68|\n",
      "|                NC|  1405|  4572|  4704|  3939|  4670|  4620|  3242|\n",
      "|                VT|   152|   602|   646|   488|   674|   676|   445|\n",
      "|                MD|  1968|  4780|  4808|  4037|  4768|  5251|  4601|\n",
      "|                DE|   499|  1247|  1321|  1188|  1314|  1267|  1069|\n",
      "|                MO|    99|   383|   487|   392|   408|   443|   271|\n",
      "|                IL|   683|  2730|  3552|  3043|  3174|  3333|  2151|\n",
      "|                ME|   863|  1358|  1773|  1757|  1773|  1726|  1556|\n",
      "|                WA|   124|   544|   521|   409|   528|   551|   375|\n",
      "|                ND|    10|    44|    61|    41|    38|    43|    17|\n",
      "|                MS|    67|   268|   306|   210|   294|   255|   182|\n",
      "|                AL|   134|   527|   548|   461|   574|   583|   351|\n",
      "|                IN|   306|  7684|  9000|  8274|  7816|  8450|  3995|\n",
      "|                OH|   604|  2000|  2099|  1746|  2210|  2211|  1411|\n",
      "|                TN|   527|  1336|  1489|  1337|  1411|  1503|   911|\n",
      "|                NM|    26|   139|   149|   122|   135|   135|    86|\n",
      "|                IA|    58|   317|   366|   310|   381|   337|   169|\n",
      "|                PA|  7242| 22481| 24374| 20789| 23920| 24441| 17039|\n",
      "|                SD|    31|   148|   153|   131|   183|   145|    68|\n",
      "|                NY|162934|683711|760097|744465|763985|733316|425443|\n",
      "|                ON|   185|   434|   369|   264|   396|   405|   407|\n",
      "|                AB|     7|    14|    20|    10|    10|    11|     7|\n",
      "|                PE|     2|     9|    15|     6|     6|    15|     8|\n",
      "|                TX|   679|  3353|  3628|  2971|  3417|  3142|  1637|\n",
      "|                WV|    74|   219|   207|   155|   228|   208|   174|\n",
      "|                GA|   836|  2905|  3044|  2580|  3130|  3126|  1916|\n",
      "|                MA|  2957|  6351|  6121|  4973|  5943|  6514|  6082|\n",
      "|                KS|    22|   113|   115|    98|   154|   144|    60|\n",
      "|                FL|  3392| 11500| 12121| 10752| 11910| 12065|  7728|\n",
      "|                CO|    94|   314|   351|   240|   353|   301|   188|\n",
      "|                AK|    16|    47|    60|    38|    53|    47|    37|\n",
      "|                AR|    47|   152|   179|   138|   186|   198|    94|\n",
      "|                NB|     4|    12|    11|     8|     7|     6|     9|\n",
      "|                OK|   188|  1474|  1702|  1330|  1672|  1583|  1139|\n",
      "|                PR|     1|     6|     6|    11|     5|     4|     5|\n",
      "|                UT|    31|    91|   108|    76|    90|   107|    58|\n",
      "|                HI|     8|    23|    28|    32|    24|    25|    16|\n",
      "|                DP|   114|   368|   357|   290|   279|   196|   190|\n",
      "+------------------+------+------+------+------+------+------+------+\n",
      "\n"
     ]
    },
    {
     "name": "stderr",
     "output_type": "stream",
     "text": [
      "\r",
      "                                                                                \r"
     ]
    }
   ],
   "source": [
    "df_pivot = df_temp.groupBy('Registration_State').pivot('Issue_DayofWeek').sum('count')\n",
    "df_pivot = df_pivot.dropna(how='any')\n",
    "df_pivot.show(100)"
   ]
  },
  {
   "cell_type": "code",
   "execution_count": null,
   "id": "b507f796",
   "metadata": {},
   "outputs": [],
   "source": []
  }
 ],
 "metadata": {
  "kernelspec": {
   "display_name": "Python 3 (ipykernel)",
   "language": "python",
   "name": "python3"
  },
  "language_info": {
   "codemirror_mode": {
    "name": "ipython",
    "version": 3
   },
   "file_extension": ".py",
   "mimetype": "text/x-python",
   "name": "python",
   "nbconvert_exporter": "python",
   "pygments_lexer": "ipython3",
   "version": "3.8.2"
  }
 },
 "nbformat": 4,
 "nbformat_minor": 5
}
