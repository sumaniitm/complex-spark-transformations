{
 "cells": [
  {
   "cell_type": "code",
   "execution_count": 1,
   "id": "d3148a00",
   "metadata": {},
   "outputs": [
    {
     "name": "stderr",
     "output_type": "stream",
     "text": [
      "21/10/23 19:12:14 WARN Utils: Your hostname, Sumans-MacBook-Pro.local resolves to a loopback address: 127.0.0.1; using 192.168.0.100 instead (on interface en0)\n",
      "21/10/23 19:12:14 WARN Utils: Set SPARK_LOCAL_IP if you need to bind to another address\n",
      "21/10/23 19:12:15 WARN NativeCodeLoader: Unable to load native-hadoop library for your platform... using builtin-java classes where applicable\n",
      "Using Spark's default log4j profile: org/apache/spark/log4j-defaults.properties\n",
      "Setting default log level to \"WARN\".\n",
      "To adjust logging level use sc.setLogLevel(newLevel). For SparkR, use setLogLevel(newLevel).\n"
     ]
    },
    {
     "name": "stdout",
     "output_type": "stream",
     "text": [
      "Welcome to\n",
      "      ____              __\n",
      "     / __/__  ___ _____/ /__\n",
      "    _\\ \\/ _ \\/ _ `/ __/  '_/\n",
      "   /__ / .__/\\_,_/_/ /_/\\_\\   version 3.0.3\n",
      "      /_/\n",
      "\n",
      "Using Python version 3.8.2 (default, Apr  8 2021 23:19:18)\n",
      "SparkSession available as 'spark'.\n"
     ]
    }
   ],
   "source": [
    "import os\n",
    "exec(open(os.path.join(os.environ[\"SPARK_HOME\"], 'python/pyspark/shell.py')).read())"
   ]
  },
  {
   "cell_type": "markdown",
   "id": "ebd18a82",
   "metadata": {},
   "source": [
    "#### First let's read in the processed and cleansed data"
   ]
  },
  {
   "cell_type": "code",
   "execution_count": 2,
   "id": "a4ba21fd",
   "metadata": {},
   "outputs": [],
   "source": [
    "sc.addFile('/Users/sumangangopadhyay/complex-spark-transformations/config.py')"
   ]
  },
  {
   "cell_type": "code",
   "execution_count": 3,
   "id": "50792855",
   "metadata": {},
   "outputs": [],
   "source": [
    "import config as cf\n",
    "from pyspark.sql import functions as func\n",
    "from pyspark.sql.types import IntegerType"
   ]
  },
  {
   "cell_type": "code",
   "execution_count": 4,
   "id": "b44dbe3e",
   "metadata": {},
   "outputs": [],
   "source": [
    "clean_data_path = cf.clean_data_path()\n",
    "primary_response_variables = cf.primary_response_variables().split(',')\n",
    "secondary_response_variables = cf.secondary_response_variables().split(',')\n",
    "primary_explanatory_variables = cf.primary_explanatory_variables().split(',')"
   ]
  },
  {
   "cell_type": "code",
   "execution_count": 5,
   "id": "5d4a6a62",
   "metadata": {},
   "outputs": [],
   "source": [
    "df = spark.read.csv(clean_data_path, header=True)"
   ]
  },
  {
   "cell_type": "markdown",
   "id": "beeefc49",
   "metadata": {},
   "source": [
    "#### Let us look for seasonality, i.e. if the incidents of violation are more in particular month(s). Note how the Issue_Month column is sorted using type casting, since this column wasn't derived as an integer before"
   ]
  },
  {
   "cell_type": "code",
   "execution_count": 6,
   "id": "05fa1b53",
   "metadata": {},
   "outputs": [
    {
     "name": "stderr",
     "output_type": "stream",
     "text": [
      "21/10/23 19:12:29 WARN package: Truncated the string representation of a plan since it was too large. This behavior can be adjusted by setting 'spark.sql.debug.maxToStringFields'.\n",
      "[Stage 1:===>                                                     (1 + 15) / 16]\r"
     ]
    },
    {
     "name": "stdout",
     "output_type": "stream",
     "text": [
      "+-----------+-------+\n",
      "|Issue_Month|  count|\n",
      "+-----------+-------+\n",
      "|          1| 877365|\n",
      "|          2| 826967|\n",
      "|          3| 964737|\n",
      "|          4| 888402|\n",
      "|          5|1020244|\n",
      "|          6| 852187|\n",
      "|          7|    370|\n",
      "|          8|    309|\n",
      "|          9|    367|\n",
      "|         10|    274|\n",
      "|         11|    338|\n",
      "|         12|    358|\n",
      "+-----------+-------+\n",
      "\n"
     ]
    },
    {
     "name": "stderr",
     "output_type": "stream",
     "text": [
      "\r",
      "                                                                                \r"
     ]
    }
   ],
   "source": [
    "df.groupBy(df.Issue_Month).count().orderBy(df.Issue_Month.cast(IntegerType())).show()"
   ]
  },
  {
   "cell_type": "markdown",
   "id": "bb0b2ee4",
   "metadata": {},
   "source": [
    "#### It is quite clear that the violations are most common during the first half of the year, so let's dig deeper in the first half"
   ]
  },
  {
   "cell_type": "code",
   "execution_count": 7,
   "id": "55057522",
   "metadata": {},
   "outputs": [],
   "source": [
    "df_first6months = df.filter((df.Issue_Month.cast(IntegerType()) >= 1) \\\n",
    "                           | (df.Issue_Month.cast(IntegerType()) <= 6))"
   ]
  },
  {
   "cell_type": "code",
   "execution_count": 8,
   "id": "a95b4080",
   "metadata": {},
   "outputs": [],
   "source": [
    "df_temp = df_first6months.groupBy(df_first6months.Issue_DayofMonth).count()"
   ]
  },
  {
   "cell_type": "code",
   "execution_count": 9,
   "id": "3666ba89",
   "metadata": {},
   "outputs": [
    {
     "data": {
      "text/plain": [
       "['Issue_DayofMonth', 'count']"
      ]
     },
     "execution_count": 9,
     "metadata": {},
     "output_type": "execute_result"
    }
   ],
   "source": [
    "df_temp.columns"
   ]
  },
  {
   "cell_type": "code",
   "execution_count": 10,
   "id": "ec0f4304",
   "metadata": {},
   "outputs": [],
   "source": [
    "df_temp.createOrReplaceTempView('t_count_per_day_of_month')"
   ]
  },
  {
   "cell_type": "code",
   "execution_count": 11,
   "id": "4242958d",
   "metadata": {},
   "outputs": [],
   "source": [
    "df_temp_standardised = spark.sql(\"select \\\n",
    "                                 t1.Issue_DayofMonth, t1.count \\\n",
    ",round((t1.count - t2.avg_issue_count)/t2.stddev_issue_count,0) as standardised_issue_count \\\n",
    ",round((t1.count - t2.min_count)/(t2.max_count - t2.min_count),0) as normalised_issue_count \\\n",
    "from t_count_per_day_of_month t1 \\\n",
    "join \\\n",
    "(select avg(count) as avg_issue_count, stddev(count) as stddev_issue_count, min(count) as min_count \\\n",
    ",max(count) as max_count from t_count_per_day_of_month)t2 \\\n",
    "on 1=1\")"
   ]
  },
  {
   "cell_type": "code",
   "execution_count": 12,
   "id": "62250b19",
   "metadata": {},
   "outputs": [
    {
     "name": "stderr",
     "output_type": "stream",
     "text": [
      "                                                                                \r"
     ]
    },
    {
     "name": "stdout",
     "output_type": "stream",
     "text": [
      "+----------------+------+------------------------+----------------------+\n",
      "|Issue_DayofMonth| count|standardised_issue_count|normalised_issue_count|\n",
      "+----------------+------+------------------------+----------------------+\n",
      "|               1|192311|                     1.0|                   1.0|\n",
      "|               2|195915|                     1.0|                   1.0|\n",
      "|               3|225398|                     2.0|                   1.0|\n",
      "|               4|179977|                     0.0|                   1.0|\n",
      "|               5|162463|                     0.0|                   1.0|\n",
      "|               6|211419|                     1.0|                   1.0|\n",
      "|               7|179266|                     0.0|                   1.0|\n",
      "|               8|187606|                     0.0|                   1.0|\n",
      "|               9|170336|                     0.0|                   1.0|\n",
      "|              10|182476|                     0.0|                   1.0|\n",
      "|              11|166438|                     0.0|                   1.0|\n",
      "|              12|162547|                     0.0|                   1.0|\n",
      "|              13|202336|                     1.0|                   1.0|\n",
      "|              14|140262|                    -1.0|                   0.0|\n",
      "|              15|171100|                     0.0|                   1.0|\n",
      "|              16|190189|                     0.0|                   1.0|\n",
      "|              17|195997|                     1.0|                   1.0|\n",
      "|              18|160471|                     0.0|                   1.0|\n",
      "|              19|170672|                     0.0|                   1.0|\n",
      "|              20|216504|                     1.0|                   1.0|\n",
      "|              21|190748|                     0.0|                   1.0|\n",
      "|              22|170821|                     0.0|                   1.0|\n",
      "|              23|201773|                     1.0|                   1.0|\n",
      "|              24|207561|                     1.0|                   1.0|\n",
      "|              25|154025|                    -1.0|                   1.0|\n",
      "|              26|158211|                    -1.0|                   1.0|\n",
      "|              27|216891|                     1.0|                   1.0|\n",
      "|              28|153615|                    -1.0|                   1.0|\n",
      "|              29| 81421|                    -3.0|                   0.0|\n",
      "|              30|131880|                    -1.0|                   0.0|\n",
      "|              31|101289|                    -2.0|                   0.0|\n",
      "+----------------+------+------------------------+----------------------+\n",
      "\n"
     ]
    }
   ],
   "source": [
    "df_temp_standardised.orderBy(df_temp_standardised.Issue_DayofMonth.cast(IntegerType())).show(40)"
   ]
  },
  {
   "cell_type": "markdown",
   "id": "054fe365",
   "metadata": {},
   "source": [
    "#### From the Standardised scores of Days of Months above, it seems that the violations are more common in the start and end of the months"
   ]
  },
  {
   "cell_type": "code",
   "execution_count": 13,
   "id": "47eabb3c",
   "metadata": {
    "scrolled": true
   },
   "outputs": [
    {
     "data": {
      "text/plain": [
       "['Summons_Number',\n",
       " 'Plate_ID',\n",
       " 'Registration_State',\n",
       " 'Plate_Type',\n",
       " 'Violation_Code',\n",
       " 'Vehicle_Body_Type',\n",
       " 'Vehicle_Make',\n",
       " 'Issuing_Agency',\n",
       " 'Street_Code1',\n",
       " 'Street_Code2',\n",
       " 'Street_Code3',\n",
       " 'Vehicle_Expiration_Date',\n",
       " 'Violation_Location',\n",
       " 'Violation_Precinct',\n",
       " 'Issuer_Precinct',\n",
       " 'Issuer_Code',\n",
       " 'Issuer_Command',\n",
       " 'Issuer_Squad',\n",
       " 'Violation_Time',\n",
       " 'Time_First_Observed',\n",
       " 'Violation_County',\n",
       " 'Violation_In_Front_Of_Or_Opposite',\n",
       " 'House_Number',\n",
       " 'Street_Name',\n",
       " 'Intersecting_Street',\n",
       " 'Date_First_Observed',\n",
       " 'Law_Section',\n",
       " 'Sub_Division',\n",
       " 'Violation_Legal_Code',\n",
       " 'Vehicle_Color',\n",
       " 'Vehicle_Year',\n",
       " 'Meter_Number',\n",
       " 'Feet_From_Curb',\n",
       " 'Violation_Post_Code',\n",
       " 'Violation_Description',\n",
       " 'Violation_AM_or_PM',\n",
       " 'Issue_Date',\n",
       " 'Issue_Year',\n",
       " 'Issue_Month',\n",
       " 'Issue_DayofWeek',\n",
       " 'Issue_DayofMonth',\n",
       " 'Violation_Time_Hour']"
      ]
     },
     "execution_count": 13,
     "metadata": {},
     "output_type": "execute_result"
    }
   ],
   "source": [
    "df.columns"
   ]
  },
  {
   "cell_type": "code",
   "execution_count": 14,
   "id": "6447985b",
   "metadata": {},
   "outputs": [],
   "source": [
    "df_temp = df_first6months.groupBy(df_first6months.Issue_DayofWeek).count()"
   ]
  },
  {
   "cell_type": "code",
   "execution_count": 15,
   "id": "798e168d",
   "metadata": {},
   "outputs": [],
   "source": [
    "df_temp.createOrReplaceTempView('t_count_per_day_of_week')"
   ]
  },
  {
   "cell_type": "code",
   "execution_count": 16,
   "id": "ef31afb0",
   "metadata": {},
   "outputs": [
    {
     "data": {
      "text/plain": [
       "['Issue_DayofWeek', 'count']"
      ]
     },
     "execution_count": 16,
     "metadata": {},
     "output_type": "execute_result"
    }
   ],
   "source": [
    "df_temp.columns"
   ]
  },
  {
   "cell_type": "code",
   "execution_count": 17,
   "id": "af192b2c",
   "metadata": {},
   "outputs": [],
   "source": [
    "df_temp_standardised = spark.sql(\"select \\\n",
    "                                 t1.Issue_DayofWeek, t1.count \\\n",
    ",round((t1.count - t2.avg_issue_count)/t2.stddev_issue_count,0) as standardised_issue_count \\\n",
    ",round((t1.count - t2.min_count)/(t2.max_count - t2.min_count),0) as normalised_issue_count \\\n",
    "from t_count_per_day_of_week t1 \\\n",
    "join \\\n",
    "(select avg(count) as avg_issue_count, stddev(count) as stddev_issue_count, min(count) as min_count \\\n",
    ",max(count) as max_count from t_count_per_day_of_week)t2 \\\n",
    "on 1=1\")"
   ]
  },
  {
   "cell_type": "code",
   "execution_count": 18,
   "id": "7eba1126",
   "metadata": {},
   "outputs": [
    {
     "name": "stderr",
     "output_type": "stream",
     "text": [
      "[Stage 8:===>                                                     (1 + 15) / 16]\r"
     ]
    },
    {
     "name": "stdout",
     "output_type": "stream",
     "text": [
      "+---------------+------+------------------------+----------------------+\n",
      "|Issue_DayofWeek| count|standardised_issue_count|normalised_issue_count|\n",
      "+---------------+------+------------------------+----------------------+\n",
      "|              1|218238|                    -2.0|                   0.0|\n",
      "|              2|869368|                     0.0|                   1.0|\n",
      "|              3|961584|                     1.0|                   1.0|\n",
      "|              4|927707|                     1.0|                   1.0|\n",
      "|              5|962045|                     1.0|                   1.0|\n",
      "|              6|932620|                     1.0|                   1.0|\n",
      "|              7|560356|                    -1.0|                   0.0|\n",
      "+---------------+------+------------------------+----------------------+\n",
      "\n"
     ]
    },
    {
     "name": "stderr",
     "output_type": "stream",
     "text": [
      "\r",
      "                                                                                \r"
     ]
    }
   ],
   "source": [
    "df_temp_standardised.orderBy(df_temp_standardised.Issue_DayofWeek.cast(IntegerType())).show(40)"
   ]
  },
  {
   "cell_type": "markdown",
   "id": "676b01b9",
   "metadata": {},
   "source": [
    "#### Quite expectedly, the violations are more during the weekdays"
   ]
  },
  {
   "cell_type": "markdown",
   "id": "2d4229c5",
   "metadata": {},
   "source": [
    "#### Let us now switch our attention towards a more fine-grained view to see if the violations of specific types (Laws) are being committed by specific type of vehicles (based on their registration states) at specific places (counties where these violations occured)"
   ]
  },
  {
   "cell_type": "code",
   "execution_count": 42,
   "id": "7a5584bb",
   "metadata": {},
   "outputs": [],
   "source": [
    "df_temp = df_first6months.groupBy(df_first6months.Issue_DayofWeek,\\\n",
    "                                 df_first6months.Violation_County,\\\n",
    "                                 df_first6months.Law_Section,\\\n",
    "                                 df_first6months.Registration_State)\\\n",
    ".count()"
   ]
  },
  {
   "cell_type": "code",
   "execution_count": 54,
   "id": "fe3bdad7",
   "metadata": {},
   "outputs": [
    {
     "name": "stderr",
     "output_type": "stream",
     "text": [
      "[Stage 375:===================================================> (194 + 6) / 200]\r"
     ]
    },
    {
     "name": "stdout",
     "output_type": "stream",
     "text": [
      "+-----------+----------------+------------------+-----+-----+-----+-----+-----+-----+-----+\n",
      "|Law_Section|Violation_County|Registration_State|    1|    2|    3|    4|    5|    6|    7|\n",
      "+-----------+----------------+------------------+-----+-----+-----+-----+-----+-----+-----+\n",
      "|        408|              BX|                CT|  621| 1767| 1804| 1533| 1839| 1889| 1801|\n",
      "|        408|               Q|                ND|    1|    2|   11|    5|    7|    8|    5|\n",
      "|       1111|              BX|                NC|   26|   19|   24|   26|   25|   34|   25|\n",
      "|       1111|              BX|                VA|   26|   33|   37|   35|   37|   38|   37|\n",
      "|        408|               R|                NJ|  141|  529|  516|  616|  549|  546|  307|\n",
      "|        408|              BX|                IA|    3|   23|   30|   20|   22|   26|   18|\n",
      "|       1111|              BX|                CA|    4|    5|    8|    2|    8|    5|    5|\n",
      "|        408|               K|                WA|   34|  232|  265|  169|  220|  224|  141|\n",
      "|        408|               K|                NV|    9|   27|   36|   22|   30|   33|   24|\n",
      "|       1111|              BK|                DC|   15|    7|    2|    2|    5|    5|   11|\n",
      "|        408|               K|                UT|    5|   29|   52|   23|   40|   42|   21|\n",
      "|       1111|              MN|                VA|   19|   24|   23|   17|   20|   32|   16|\n",
      "|        408|               Q|                CT|  589| 1643| 1658| 1488| 1624| 1581| 1724|\n",
      "|        408|              BX|                MS|    6|   34|   26|   12|   19|   19|   20|\n",
      "|        408|               Q|                AB|    1|    2|    1|    1|    3|    2|    1|\n",
      "|        408|               Q|                NM|    2|   29|   26|   29|   26|   23|   18|\n",
      "|       1111|              QN|                VA|  117|   86|   82|   73|   61|   87|   94|\n",
      "|       1111|              QN|                UT|    4|    1|    1|    1|    2|    2|    1|\n",
      "|        408|              BX|                TN|  185|  235|  256|  269|  285|  285|  285|\n",
      "|        408|               Q|                WV|    6|   29|   33|   32|   22|   34|   29|\n",
      "|        408|               K|                CO|   18|  120|  158|   78|  151|  116|   54|\n",
      "|        408|              NY|                NH|  125|  233|  190|  173|  189|  244|  272|\n",
      "|       1111|              BK|                NY| 9538| 9955| 9557|10414|10906|11667| 8424|\n",
      "|        408|              NY|                AK|    7|    7|   11|   10|    5|    4|    8|\n",
      "|        408|               R|                ME|    7|    7|    4|    7|    1|    5|    1|\n",
      "|        408|               Q|                MD|  261|  752|  779|  708|  784|  818|  803|\n",
      "|        408|               K|                MD|  386| 1361| 1394|  951| 1404| 1371| 1181|\n",
      "|        408|              BX|                NH|   34|   71|   90|   64|   83|  104|   78|\n",
      "|       1111|              BK|                MA|  107|   75|   56|   61|   61|  117|  115|\n",
      "|       1111|              MN|                KY|    5|    1|    1|    2|    2|    2|    1|\n",
      "|        408|              BX|                MI|   37|  142|  144|  108|  144|  138|  107|\n",
      "|        408|              NY|                99|  296|  694|  970|  751|  782|  619|  393|\n",
      "|        408|              NY|                WY|    4|   11|   11|   10|    9|   14|   13|\n",
      "|        408|              NY|                BC|    1|    3|    8|    4|    5|    6|    2|\n",
      "|        408|               R|                PA|   53|  144|  129|  133|  134|  142|  111|\n",
      "|       1111|              MN|                FL|   31|   27|   29|   24|   28|   31|   23|\n",
      "|       1111|              ST|                MA|    9|   10|    3|    6|    5|    8|    6|\n",
      "|       1111|              MN|                OH|   10|    8|    4|    8|    9|   13|   10|\n",
      "|        408|              NY|                NC|  436| 1100| 1136|  978| 1017| 1075|  998|\n",
      "|       1111|              ST|                CA|    1|    1|    2|    2|    1|    2|    3|\n",
      "|       1111|              BX|                CT|  171|  107|  103|  111|  110|  120|  151|\n",
      "|        408|              BX|                OK|   26|  187|  171|  133|  165|  179|   66|\n",
      "|        408|               K|                99|  337|  739|  769|  730|  694|  720|  485|\n",
      "|        408|              NY|                MA| 1558| 2438| 2266| 1870| 2177| 2367| 3024|\n",
      "|        408|              BX|                IN|   34|  228|  376|  319|  292|  381|  118|\n",
      "|       1111|              ST|                PA|   50|   51|   42|   51|   40|   59|   63|\n",
      "|        408|               K|                WI|   16|  117|  124|   65|  103|  104|   60|\n",
      "|        408|               Q|                TX|   95|  510|  538|  502|  441|  500|  333|\n",
      "|        408|              BX|                SD|    2|    7|   20|   14|   12|   18|    9|\n",
      "|        408|               Q|                IN|   45|  449|  569|  586|  583|  550|  232|\n",
      "|       1111|              BX|                OH|    8|   11|    8|   10|   12|   11|    8|\n",
      "|       1111|              BK|                MS|    2|    4|    7|    5|    5|    5|    2|\n",
      "|        408|               K|                QB|   43|  122|   99|   82|  141|  147|   71|\n",
      "|        408|              BX|                NM|    2|    4|    8|   13|   10|   11|    7|\n",
      "|        408|              NY|                AZ|  307|  713|  845|  879|  903|  893|  910|\n",
      "|        408|              NY|                AL|   49|  118|  128|  110|  121|  132|  109|\n",
      "|       1111|              BX|                RI|    7|    4|    5|    4|    2|    8|   11|\n",
      "|       1111|              ST|                MD|   13|    5|    6|    8|    9|    7|   10|\n",
      "|       1111|              BK|                OH|   23|   28|   23|   31|   22|   32|   20|\n",
      "|       1111|              QN|                DC|    3|    2|    3|    3|    3|    7|    4|\n",
      "|        408|               Q|                KY|   14|   62|   48|   40|   35|   47|   32|\n",
      "|        408|              NY|                NJ|11486|43799|48711|49157|47165|46845|30826|\n",
      "|        408|              BX|                AK|    2|    6|    2|    7|    2|    3|    3|\n",
      "|        408|               Q|                DP|    5|   17|   16|    9|   21|   20|   18|\n",
      "|        408|               Q|                PA|  806| 3049| 3215| 2912| 3254| 3176| 2580|\n",
      "|       1111|              BK|                MD|  130|   78|   84|   80|   91|  132|  119|\n",
      "|        408|              NY|                HI|    4|    2|    5|    1|    6|    4|    5|\n",
      "|       1111|              BX|                GA|   15|   21|   18|   17|   18|   16|   12|\n",
      "|        408|               K|                GV|    3|   17|   26|   11|   12|    8|    1|\n",
      "|        408|              NY|                QB|  140|  163|  116|   93|  145|  155|  177|\n",
      "|       1111|              ST|                VA|   13|   11|    5|   10|    5|   10|   15|\n",
      "|       1111|              BK|                MO|    7|    5|    2|    6|    3|    4|    3|\n",
      "|        408|              NY|                WI|   32|  116|  143|  137|  139|  150|   82|\n",
      "|        408|              BX|                MA|  355|  686|  668|  545|  628|  667|  741|\n",
      "|        408|              NY|                IL|  259|  955| 1394| 1260| 1259| 1386|  931|\n",
      "|        408|              NY|                IA|   15|  108|  104|   95|  105|  101|   77|\n",
      "|        408|               R|                AZ|    2|    3|    6|    7|    8|    3|    5|\n",
      "|       1111|              QN|                FL|  184|  147|  142|  182|  167|  178|  178|\n",
      "|        408|              NY|                ID|    3|   61|   40|   29|   38|   59|   17|\n",
      "|        408|              BX|                HI|    1|    7|    6|    6|    2|    5|    3|\n",
      "|       1111|              BK|                WA|    5|    7|    4|    4|    2|    5|    3|\n",
      "|        408|               Q|                IL|  128|  504|  579|  519|  558|  518|  413|\n",
      "|        408|              NY|                CT| 2007| 4217| 4474| 3974| 4389| 4188| 4666|\n",
      "|       1111|              QN|                CA|   25|   17|   19|   14|   23|   15|   29|\n",
      "|       1111|              BK|                KY|    6|    3|    1|    7|    5|    6|    6|\n",
      "|        408|               Q|                CO|    9|   46|   54|   49|   63|   42|   27|\n",
      "|        408|               K|                CA|  116|  750|  861|  526|  787|  721|  397|\n",
      "|        408|              BX|                VA|  218|  649|  655|  532|  644|  701|  580|\n",
      "|        408|              NY|                NM|   13|   50|   52|   46|   47|   47|   31|\n",
      "|        408|               K|                IN|   40|  386|  400|  459|  409|  328|  176|\n",
      "|       1111|              ST|                FL|   34|   29|   25|   23|   33|   25|   25|\n",
      "|        408|              BX|                99|  260|  406|  459|  380|  437|  358|  267|\n",
      "|        408|               Q|                NJ| 1281| 5893| 6328| 6396| 6587| 6676| 5216|\n",
      "|        408|              NY|                GA|  212|  501|  546|  426|  514|  527|  518|\n",
      "|       1111|              MN|                TX|    4|   10|    7|    6|    7|   11|    4|\n",
      "|       1111|              BK|                AR|    4|    1|    2|    3|    3|    2|    1|\n",
      "|        408|              NY|                IN|  180| 6590| 7596| 6851| 6479| 7159| 3456|\n",
      "|        408|               Q|                AZ|   65|  193|  230|  261|  275|  280|  199|\n",
      "|        408|              BX|                QB|    2|    9|   13|    9|   15|   20|    9|\n",
      "|        408|               K|                ND|    4|   24|   23|   23|   17|   19|    7|\n",
      "+-----------+----------------+------------------+-----+-----+-----+-----+-----+-----+-----+\n",
      "only showing top 100 rows\n",
      "\n"
     ]
    },
    {
     "name": "stderr",
     "output_type": "stream",
     "text": [
      "\r",
      "                                                                                \r"
     ]
    }
   ],
   "source": [
    "df_pivot = df_temp.groupBy('Law_Section','Violation_County','Registration_State').pivot('Issue_DayofWeek')\\\n",
    ".agg(func.sum('count').alias('count'))\n",
    "df_pivot = df_pivot.dropna(how='any')\n",
    "df_pivot.show(100)"
   ]
  },
  {
   "cell_type": "code",
   "execution_count": 25,
   "id": "66492f0d",
   "metadata": {},
   "outputs": [
    {
     "name": "stderr",
     "output_type": "stream",
     "text": [
      "[Stage 79:===>                                                    (1 + 15) / 16]\r"
     ]
    },
    {
     "name": "stdout",
     "output_type": "stream",
     "text": [
      "+-----------+------+------+------+------+------+------+------+\n",
      "|Law_Section|     1|     2|     3|     4|     5|     6|     7|\n",
      "+-----------+------+------+------+------+------+------+------+\n",
      "|       1111| 34443| 35862| 34880| 38101| 39287| 42399| 33278|\n",
      "|        408|183795|716190|798817|742957|791164|750898|527078|\n",
      "|         40|  null|  null|  null|  null|  null|     1|  null|\n",
      "|       1180|  null|117314|127887|146649|131594|139321|  null|\n",
      "|       6408|  null|     2|  null|  null|  null|  null|  null|\n",
      "|       3040|  null|  null|  null|  null|  null|     1|  null|\n",
      "+-----------+------+------+------+------+------+------+------+\n",
      "\n"
     ]
    },
    {
     "name": "stderr",
     "output_type": "stream",
     "text": [
      "\r",
      "                                                                                \r"
     ]
    }
   ],
   "source": [
    "df_temp.groupBy('Law_Section').pivot('Issue_DayofWeek').sum('count').show(100)"
   ]
  },
  {
   "cell_type": "code",
   "execution_count": 26,
   "id": "5ac2a998",
   "metadata": {},
   "outputs": [
    {
     "name": "stderr",
     "output_type": "stream",
     "text": [
      "[Stage 103:===>                                                   (1 + 15) / 16]\r"
     ]
    },
    {
     "name": "stdout",
     "output_type": "stream",
     "text": [
      "+----------------+-----+------+------+------+------+------+------+\n",
      "|Violation_County|    1|     2|     3|     4|     5|     6|     7|\n",
      "+----------------+-----+------+------+------+------+------+------+\n",
      "|               K|48271|180749|206674|171812|206556|184264|126507|\n",
      "|              MN| 2361|  6931|  6944|  7133|  7213|  7925|  2414|\n",
      "|               Q|31438|149151|158740|159233|163532|155902|121437|\n",
      "|              BX|32732|109182|118499|110442|119448|121496| 77730|\n",
      "|            null| 1660|  2696|  2936|  2767|  2847|  2446|  1737|\n",
      "|              QN|13373| 49600| 53168| 63327| 56714| 62787| 13225|\n",
      "|             QNS| null|  null|  null|  null|  null|     1|  null|\n",
      "|              BK|12231| 66244| 70032| 78169| 73213| 73937| 10759|\n",
      "|           BRONX| null|  null|  null|  null|     1|  null|  null|\n",
      "|               R| 3821| 10320| 10054| 10834| 10193|  9816|  7960|\n",
      "|              NY|69942|283391|323105|311528|309883|300884|195832|\n",
      "|              ST| 2409| 11104| 11432| 12462| 12445| 13162|  2755|\n",
      "+----------------+-----+------+------+------+------+------+------+\n",
      "\n"
     ]
    },
    {
     "name": "stderr",
     "output_type": "stream",
     "text": [
      "\r",
      "                                                                                \r"
     ]
    }
   ],
   "source": [
    "df_temp.groupBy('Violation_County').pivot('Issue_DayofWeek').sum('count').show(100)"
   ]
  },
  {
   "cell_type": "code",
   "execution_count": 55,
   "id": "e3b72d83",
   "metadata": {
    "scrolled": true
   },
   "outputs": [
    {
     "name": "stderr",
     "output_type": "stream",
     "text": [
      "[Stage 391:==========================================>         (164 + 16) / 200]\r"
     ]
    },
    {
     "name": "stdout",
     "output_type": "stream",
     "text": [
      "+------------------+------+------+------+------+------+------+------+\n",
      "|Registration_State|     1|     2|     3|     4|     5|     6|     7|\n",
      "+------------------+------+------+------+------+------+------+------+\n",
      "|                AZ|   660|  1714|  2010|  2086|  2116|  2088|  1705|\n",
      "|                SC|   498|  1765|  1784|  1541|  1843|  1767|  1197|\n",
      "|                NS|    18|    64|    46|    39|    69|    48|    38|\n",
      "|                LA|    80|   296|   298|   218|   328|   302|   167|\n",
      "|                MN|    97|  1929|  1676|  1636|  1671|  1897|  1177|\n",
      "|                NJ| 20403| 74933| 83198| 81906| 82570| 81754| 51061|\n",
      "|                DC|   166|   308|   287|   180|   299|   365|   324|\n",
      "|                OR|    76|   504|   518|   434|   535|   431|   124|\n",
      "|                99|  1290|  2510|  2964|  2575|  2673|  2361|  1682|\n",
      "|                VA|  2066|  5695|  5625|  4752|  5669|  6026|  4534|\n",
      "|                RI|   417|   942|   961|   736|   910|   950|   898|\n",
      "|                WY|     4|    35|    29|    22|    40|    33|    25|\n",
      "|                KY|   111|   300|   297|   251|   290|   321|   225|\n",
      "|                BC|     3|     7|    10|     7|    10|    12|     5|\n",
      "|                NH|   254|   629|   673|   555|   689|   746|   573|\n",
      "|                MI|   366|  1211|  1230|  1057|  1233|  1241|   893|\n",
      "|                NV|    39|   123|   133|   110|   115|   123|    82|\n",
      "|                GV|     8|    43|    95|    81|    59|    53|     9|\n",
      "|                QB|   193|   327|   258|   207|   339|   374|   300|\n",
      "|                WI|    87|   358|   414|   315|   374|   385|   194|\n",
      "|                ID|    21|   125|   156|   111|   133|   161|    56|\n",
      "|                CA|   502|  2060|  2221|  1679|  2144|  2154|  1393|\n",
      "|                NE|    33|   118|   117|    82|   113|   135|   106|\n",
      "|                CT|  4437| 11036| 11584|  9927| 11612| 11426| 10381|\n",
      "|                MT|    19|    70|    97|    84|    85|    82|    68|\n",
      "|                NC|  1405|  4572|  4704|  3939|  4670|  4620|  3242|\n",
      "|                VT|   152|   602|   646|   488|   674|   676|   445|\n",
      "|                MD|  1968|  4780|  4808|  4037|  4768|  5251|  4601|\n",
      "|                DE|   499|  1247|  1321|  1188|  1314|  1267|  1069|\n",
      "|                MO|    99|   383|   487|   392|   408|   443|   271|\n",
      "|                IL|   683|  2730|  3552|  3043|  3174|  3333|  2151|\n",
      "|                ME|   863|  1358|  1773|  1757|  1773|  1726|  1556|\n",
      "|                MB|  null|     5|     4|     2|     3|     2|     1|\n",
      "|                WA|   124|   544|   521|   409|   528|   551|   375|\n",
      "|                ND|    10|    44|    61|    41|    38|    43|    17|\n",
      "|                MS|    67|   268|   306|   210|   294|   255|   182|\n",
      "|                AL|   134|   527|   548|   461|   574|   583|   351|\n",
      "|                IN|   306|  7684|  9000|  8274|  7816|  8450|  3995|\n",
      "|                OH|   604|  2000|  2099|  1746|  2210|  2211|  1411|\n",
      "|                TN|   527|  1336|  1489|  1337|  1411|  1503|   911|\n",
      "|                NM|    26|   139|   149|   122|   135|   135|    86|\n",
      "|                IA|    58|   317|   366|   310|   381|   337|   169|\n",
      "|                PA|  7242| 22481| 24374| 20789| 23920| 24441| 17039|\n",
      "|                SD|    31|   148|   153|   131|   183|   145|    68|\n",
      "|                FO|     1|     2|     2|     1|     1|  null|     1|\n",
      "|                NY|162934|683711|760097|744465|763985|733316|425443|\n",
      "|                ON|   185|   434|   369|   264|   396|   405|   407|\n",
      "|                SK|  null|     3|     1|     2|     3|  null|  null|\n",
      "|                AB|     7|    14|    20|    10|    10|    11|     7|\n",
      "|                PE|     2|     9|    15|     6|     6|    15|     8|\n",
      "|                TX|   679|  3353|  3628|  2971|  3417|  3142|  1637|\n",
      "|                WV|    74|   219|   207|   155|   228|   208|   174|\n",
      "|                GA|   836|  2905|  3044|  2580|  3130|  3126|  1916|\n",
      "|                MA|  2957|  6351|  6121|  4973|  5943|  6514|  6082|\n",
      "|                KS|    22|   113|   115|    98|   154|   144|    60|\n",
      "|                FL|  3392| 11500| 12121| 10752| 11910| 12065|  7728|\n",
      "|                CO|    94|   314|   351|   240|   353|   301|   188|\n",
      "|                AK|    16|    47|    60|    38|    53|    47|    37|\n",
      "|                AR|    47|   152|   179|   138|   186|   198|    94|\n",
      "|                NB|     4|    12|    11|     8|     7|     6|     9|\n",
      "|                OK|   188|  1474|  1702|  1330|  1672|  1583|  1139|\n",
      "|                PR|     1|     6|     6|    11|     5|     4|     5|\n",
      "|                UT|    31|    91|   108|    76|    90|   107|    58|\n",
      "|                HI|     8|    23|    28|    32|    24|    25|    16|\n",
      "|                DP|   114|   368|   357|   290|   279|   196|   190|\n",
      "+------------------+------+------+------+------+------+------+------+\n",
      "\n"
     ]
    },
    {
     "name": "stderr",
     "output_type": "stream",
     "text": [
      "\r",
      "                                                                                \r"
     ]
    }
   ],
   "source": [
    "df_temp.groupBy('Registration_State').pivot('Issue_DayofWeek').sum('count').show(100)"
   ]
  },
  {
   "cell_type": "code",
   "execution_count": null,
   "id": "bc1423a4",
   "metadata": {},
   "outputs": [],
   "source": []
  }
 ],
 "metadata": {
  "kernelspec": {
   "display_name": "Python 3 (ipykernel)",
   "language": "python",
   "name": "python3"
  },
  "language_info": {
   "codemirror_mode": {
    "name": "ipython",
    "version": 3
   },
   "file_extension": ".py",
   "mimetype": "text/x-python",
   "name": "python",
   "nbconvert_exporter": "python",
   "pygments_lexer": "ipython3",
   "version": "3.8.2"
  }
 },
 "nbformat": 4,
 "nbformat_minor": 5
}
