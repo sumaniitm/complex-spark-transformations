{
 "cells": [
  {
   "cell_type": "code",
   "execution_count": 1,
   "id": "d3148a00",
   "metadata": {},
   "outputs": [
    {
     "name": "stderr",
     "output_type": "stream",
     "text": [
      "21/10/30 08:47:15 WARN Utils: Your hostname, Sumans-MacBook-Pro.local resolves to a loopback address: 127.0.0.1; using 192.168.0.101 instead (on interface en0)\n",
      "21/10/30 08:47:15 WARN Utils: Set SPARK_LOCAL_IP if you need to bind to another address\n",
      "21/10/30 08:47:15 WARN NativeCodeLoader: Unable to load native-hadoop library for your platform... using builtin-java classes where applicable\n",
      "Using Spark's default log4j profile: org/apache/spark/log4j-defaults.properties\n",
      "Setting default log level to \"WARN\".\n",
      "To adjust logging level use sc.setLogLevel(newLevel). For SparkR, use setLogLevel(newLevel).\n"
     ]
    },
    {
     "name": "stdout",
     "output_type": "stream",
     "text": [
      "Welcome to\n",
      "      ____              __\n",
      "     / __/__  ___ _____/ /__\n",
      "    _\\ \\/ _ \\/ _ `/ __/  '_/\n",
      "   /__ / .__/\\_,_/_/ /_/\\_\\   version 3.0.3\n",
      "      /_/\n",
      "\n",
      "Using Python version 3.8.2 (default, Apr  8 2021 23:19:18)\n",
      "SparkSession available as 'spark'.\n"
     ]
    }
   ],
   "source": [
    "import os\n",
    "exec(open(os.path.join(os.environ[\"SPARK_HOME\"], 'python/pyspark/shell.py')).read())"
   ]
  },
  {
   "cell_type": "markdown",
   "id": "ebd18a82",
   "metadata": {},
   "source": [
    "#### First let's read in the processed and cleansed data"
   ]
  },
  {
   "cell_type": "code",
   "execution_count": 2,
   "id": "a4ba21fd",
   "metadata": {},
   "outputs": [],
   "source": [
    "sc.addFile('/Users/sumangangopadhyay/complex-spark-transformations/config.py')"
   ]
  },
  {
   "cell_type": "code",
   "execution_count": 3,
   "id": "50792855",
   "metadata": {},
   "outputs": [],
   "source": [
    "import config as cf\n",
    "from pyspark.sql import functions as func\n",
    "from pyspark.sql.types import IntegerType"
   ]
  },
  {
   "cell_type": "code",
   "execution_count": 4,
   "id": "b44dbe3e",
   "metadata": {},
   "outputs": [],
   "source": [
    "clean_data_path = cf.clean_data_path()\n",
    "primary_response_variables = cf.primary_response_variables().split(',')\n",
    "secondary_response_variables = cf.secondary_response_variables().split(',')\n",
    "primary_explanatory_variables = cf.primary_explanatory_variables().split(',')"
   ]
  },
  {
   "cell_type": "code",
   "execution_count": 5,
   "id": "5d4a6a62",
   "metadata": {},
   "outputs": [],
   "source": [
    "df = spark.read.csv(clean_data_path, header=True)"
   ]
  },
  {
   "cell_type": "markdown",
   "id": "beeefc49",
   "metadata": {},
   "source": [
    "#### Let us look for seasonality, i.e. if the incidents of violation are more in particular month(s). Note how the Issue_Month column is sorted using type casting, since this column wasn't derived as an integer before"
   ]
  },
  {
   "cell_type": "code",
   "execution_count": 6,
   "id": "05fa1b53",
   "metadata": {},
   "outputs": [
    {
     "name": "stderr",
     "output_type": "stream",
     "text": [
      "21/10/30 08:47:32 WARN package: Truncated the string representation of a plan since it was too large. This behavior can be adjusted by setting 'spark.sql.debug.maxToStringFields'.\n",
      "[Stage 1:===>                                                     (1 + 15) / 16]\r"
     ]
    },
    {
     "name": "stdout",
     "output_type": "stream",
     "text": [
      "+-----------+-------+\n",
      "|Issue_Month|  count|\n",
      "+-----------+-------+\n",
      "|          1| 877365|\n",
      "|          2| 826967|\n",
      "|          3| 964737|\n",
      "|          4| 888402|\n",
      "|          5|1020244|\n",
      "|          6| 852187|\n",
      "|          7|    370|\n",
      "|          8|    309|\n",
      "|          9|    367|\n",
      "|         10|    274|\n",
      "|         11|    338|\n",
      "|         12|    358|\n",
      "+-----------+-------+\n",
      "\n"
     ]
    },
    {
     "name": "stderr",
     "output_type": "stream",
     "text": [
      "\r",
      "                                                                                \r"
     ]
    }
   ],
   "source": [
    "df.groupBy(df.Issue_Month).count().orderBy(df.Issue_Month.cast(IntegerType())).show()"
   ]
  },
  {
   "cell_type": "markdown",
   "id": "bb0b2ee4",
   "metadata": {},
   "source": [
    "#### It is quite clear that the violations are most common during the first half of the year, so let's dig deeper in the first half"
   ]
  },
  {
   "cell_type": "code",
   "execution_count": 7,
   "id": "55057522",
   "metadata": {},
   "outputs": [],
   "source": [
    "df_first6months = df.filter((df.Issue_Month.cast(IntegerType()) >= 1) \\\n",
    "                           | (df.Issue_Month.cast(IntegerType()) <= 6))"
   ]
  },
  {
   "cell_type": "code",
   "execution_count": 8,
   "id": "a95b4080",
   "metadata": {},
   "outputs": [],
   "source": [
    "df_temp = df_first6months.groupBy(df_first6months.Issue_DayofMonth).count()"
   ]
  },
  {
   "cell_type": "code",
   "execution_count": 9,
   "id": "ec0f4304",
   "metadata": {},
   "outputs": [],
   "source": [
    "df_temp.createOrReplaceTempView('t_count_per_day_of_month')"
   ]
  },
  {
   "cell_type": "code",
   "execution_count": 10,
   "id": "4242958d",
   "metadata": {},
   "outputs": [],
   "source": [
    "df_temp_standardised = spark.sql(\"select \\\n",
    "                                 t1.Issue_DayofMonth, t1.count \\\n",
    ",round((t1.count - t2.avg_issue_count)/t2.stddev_issue_count,0) as standardised_issue_count \\\n",
    ",round((t1.count - t2.min_count)/(t2.max_count - t2.min_count),0) as normalised_issue_count \\\n",
    "from t_count_per_day_of_month t1 \\\n",
    "join \\\n",
    "(select avg(count) as avg_issue_count, stddev(count) as stddev_issue_count, min(count) as min_count \\\n",
    ",max(count) as max_count from t_count_per_day_of_month)t2 \\\n",
    "on 1=1\")"
   ]
  },
  {
   "cell_type": "code",
   "execution_count": 11,
   "id": "62250b19",
   "metadata": {},
   "outputs": [
    {
     "name": "stderr",
     "output_type": "stream",
     "text": [
      "                                                                                \r"
     ]
    },
    {
     "name": "stdout",
     "output_type": "stream",
     "text": [
      "+----------------+------+------------------------+----------------------+\n",
      "|Issue_DayofMonth| count|standardised_issue_count|normalised_issue_count|\n",
      "+----------------+------+------------------------+----------------------+\n",
      "|               1|192311|                     1.0|                   1.0|\n",
      "|               2|195915|                     1.0|                   1.0|\n",
      "|               3|225398|                     2.0|                   1.0|\n",
      "|               4|179977|                     0.0|                   1.0|\n",
      "|               5|162463|                     0.0|                   1.0|\n",
      "|               6|211419|                     1.0|                   1.0|\n",
      "|               7|179266|                     0.0|                   1.0|\n",
      "|               8|187606|                     0.0|                   1.0|\n",
      "|               9|170336|                     0.0|                   1.0|\n",
      "|              10|182476|                     0.0|                   1.0|\n",
      "|              11|166438|                     0.0|                   1.0|\n",
      "|              12|162547|                     0.0|                   1.0|\n",
      "|              13|202336|                     1.0|                   1.0|\n",
      "|              14|140262|                    -1.0|                   0.0|\n",
      "|              15|171100|                     0.0|                   1.0|\n",
      "|              16|190189|                     0.0|                   1.0|\n",
      "|              17|195997|                     1.0|                   1.0|\n",
      "|              18|160471|                     0.0|                   1.0|\n",
      "|              19|170672|                     0.0|                   1.0|\n",
      "|              20|216504|                     1.0|                   1.0|\n",
      "|              21|190748|                     0.0|                   1.0|\n",
      "|              22|170821|                     0.0|                   1.0|\n",
      "|              23|201773|                     1.0|                   1.0|\n",
      "|              24|207561|                     1.0|                   1.0|\n",
      "|              25|154025|                    -1.0|                   1.0|\n",
      "|              26|158211|                    -1.0|                   1.0|\n",
      "|              27|216891|                     1.0|                   1.0|\n",
      "|              28|153615|                    -1.0|                   1.0|\n",
      "|              29| 81421|                    -3.0|                   0.0|\n",
      "|              30|131880|                    -1.0|                   0.0|\n",
      "|              31|101289|                    -2.0|                   0.0|\n",
      "+----------------+------+------------------------+----------------------+\n",
      "\n"
     ]
    }
   ],
   "source": [
    "df_temp_standardised.orderBy(df_temp_standardised.Issue_DayofMonth.cast(IntegerType())).show(40)"
   ]
  },
  {
   "cell_type": "markdown",
   "id": "054fe365",
   "metadata": {},
   "source": [
    "#### From the Standardised scores of Days of Months above, it seems that the violations are more common in the start and end of the months"
   ]
  },
  {
   "cell_type": "code",
   "execution_count": 12,
   "id": "6447985b",
   "metadata": {},
   "outputs": [],
   "source": [
    "df_temp = df_first6months.groupBy(df_first6months.Issue_DayofWeek).count()"
   ]
  },
  {
   "cell_type": "code",
   "execution_count": 13,
   "id": "798e168d",
   "metadata": {},
   "outputs": [],
   "source": [
    "df_temp.createOrReplaceTempView('t_count_per_day_of_week')"
   ]
  },
  {
   "cell_type": "code",
   "execution_count": 14,
   "id": "ef31afb0",
   "metadata": {},
   "outputs": [
    {
     "data": {
      "text/plain": [
       "['Issue_DayofWeek', 'count']"
      ]
     },
     "execution_count": 14,
     "metadata": {},
     "output_type": "execute_result"
    }
   ],
   "source": [
    "df_temp.columns"
   ]
  },
  {
   "cell_type": "code",
   "execution_count": 15,
   "id": "af192b2c",
   "metadata": {},
   "outputs": [],
   "source": [
    "df_temp_standardised = spark.sql(\"select \\\n",
    "                                 'day_'||cast(t1.Issue_DayofWeek as string) as Issue_DayofWeek, t1.count \\\n",
    ",round((t1.count - t2.avg_issue_count)/t2.stddev_issue_count,0) as standardised_issue_count \\\n",
    ",round((t1.count - t2.min_count)/(t2.max_count - t2.min_count),0) as normalised_issue_count \\\n",
    "from t_count_per_day_of_week t1 \\\n",
    "join \\\n",
    "(select avg(count) as avg_issue_count, stddev(count) as stddev_issue_count, min(count) as min_count \\\n",
    ",max(count) as max_count from t_count_per_day_of_week)t2 \\\n",
    "on 1=1\")"
   ]
  },
  {
   "cell_type": "code",
   "execution_count": 16,
   "id": "7eba1126",
   "metadata": {},
   "outputs": [
    {
     "name": "stderr",
     "output_type": "stream",
     "text": [
      "[Stage 8:===>                                                     (1 + 15) / 16]\r"
     ]
    },
    {
     "name": "stdout",
     "output_type": "stream",
     "text": [
      "+---------------+------+------------------------+----------------------+\n",
      "|Issue_DayofWeek| count|standardised_issue_count|normalised_issue_count|\n",
      "+---------------+------+------------------------+----------------------+\n",
      "|          day_1|218238|                    -2.0|                   0.0|\n",
      "|          day_7|560356|                    -1.0|                   0.0|\n",
      "|          day_2|869368|                     0.0|                   1.0|\n",
      "|          day_4|927707|                     1.0|                   1.0|\n",
      "|          day_3|961584|                     1.0|                   1.0|\n",
      "|          day_6|932620|                     1.0|                   1.0|\n",
      "|          day_5|962045|                     1.0|                   1.0|\n",
      "+---------------+------+------------------------+----------------------+\n",
      "\n"
     ]
    },
    {
     "name": "stderr",
     "output_type": "stream",
     "text": [
      "\r",
      "                                                                                \r"
     ]
    }
   ],
   "source": [
    "df_temp_standardised.orderBy(df_temp_standardised.Issue_DayofWeek.cast(IntegerType())).show(40)"
   ]
  },
  {
   "cell_type": "markdown",
   "id": "676b01b9",
   "metadata": {},
   "source": [
    "#### Quite expectedly, the violations are more during the weekdays"
   ]
  },
  {
   "cell_type": "markdown",
   "id": "2d4229c5",
   "metadata": {},
   "source": [
    "#### Let us now switch our attention towards a more fine-grained view to see if the violations of specific types (Laws) are being committed by specific type of vehicles (based on their registration states) at specific places (counties where these violations occured)"
   ]
  },
  {
   "cell_type": "code",
   "execution_count": 17,
   "id": "7a5584bb",
   "metadata": {},
   "outputs": [],
   "source": [
    "df_temp = df_first6months.groupBy(df_first6months.Issue_DayofWeek,\\\n",
    "                                 df_first6months.Violation_County,\\\n",
    "                                 df_first6months.Law_Section,\\\n",
    "                                 df_first6months.Registration_State)\\\n",
    ".count()"
   ]
  },
  {
   "cell_type": "markdown",
   "id": "7aa834da",
   "metadata": {},
   "source": [
    "#### To observe the distribution of violations per Law Section, County and Registration, let's pivot the count of violations by days of week. Also we are only keeping those combinations for which violations exist throughout the week"
   ]
  },
  {
   "cell_type": "code",
   "execution_count": 18,
   "id": "fe3bdad7",
   "metadata": {},
   "outputs": [
    {
     "name": "stderr",
     "output_type": "stream",
     "text": [
      "[Stage 18:========================================>            (154 + 16) / 200]\r"
     ]
    },
    {
     "name": "stdout",
     "output_type": "stream",
     "text": [
      "+-----------+----------------+------------------+---+----+----+----+----+----+----+\n",
      "|Law_Section|Violation_County|Registration_State|  1|   2|   3|   4|   5|   6|   7|\n",
      "+-----------+----------------+------------------+---+----+----+----+----+----+----+\n",
      "|        408|              BX|                CT|621|1767|1804|1533|1839|1889|1801|\n",
      "|        408|               Q|                ND|  1|   2|  11|   5|   7|   8|   5|\n",
      "|       1111|              BX|                NC| 26|  19|  24|  26|  25|  34|  25|\n",
      "|       1111|              BX|                VA| 26|  33|  37|  35|  37|  38|  37|\n",
      "|        408|               R|                NJ|141| 529| 516| 616| 549| 546| 307|\n",
      "|        408|              BX|                IA|  3|  23|  30|  20|  22|  26|  18|\n",
      "|       1111|              BX|                CA|  4|   5|   8|   2|   8|   5|   5|\n",
      "|        408|               K|                WA| 34| 232| 265| 169| 220| 224| 141|\n",
      "|        408|               K|                NV|  9|  27|  36|  22|  30|  33|  24|\n",
      "|       1111|              BK|                DC| 15|   7|   2|   2|   5|   5|  11|\n",
      "+-----------+----------------+------------------+---+----+----+----+----+----+----+\n",
      "only showing top 10 rows\n",
      "\n"
     ]
    },
    {
     "name": "stderr",
     "output_type": "stream",
     "text": [
      "\r",
      "                                                                                \r"
     ]
    }
   ],
   "source": [
    "df_pivot = df_temp.groupBy('Law_Section','Violation_County','Registration_State').pivot('Issue_DayofWeek')\\\n",
    ".agg(func.sum('count').alias('count'))\n",
    "df_pivot = df_pivot.dropna(how='any')\n",
    "df_pivot.show(10)"
   ]
  },
  {
   "cell_type": "code",
   "execution_count": 19,
   "id": "6804a6e4",
   "metadata": {},
   "outputs": [],
   "source": [
    "df_temp.createOrReplaceTempView('max_violation_for_combination')"
   ]
  },
  {
   "cell_type": "code",
   "execution_count": 20,
   "id": "c8ec4c42",
   "metadata": {},
   "outputs": [
    {
     "name": "stderr",
     "output_type": "stream",
     "text": [
      "[Stage 28:================================================>    (184 + 16) / 200]\r"
     ]
    },
    {
     "name": "stdout",
     "output_type": "stream",
     "text": [
      "+--------------+-------------------+---------------------+------------+\n",
      "|t1_Law_Section|t1_Violation_County|t1_Registration_State|t1_max_count|\n",
      "+--------------+-------------------+---------------------+------------+\n",
      "|           408|                 NY|                   NY|      233692|\n",
      "|           408|                  K|                   NY|      164702|\n",
      "|           408|                  Q|                   NY|      139776|\n",
      "|           408|                 BX|                   NY|       78039|\n",
      "|          1180|                 BK|                   NY|       54279|\n",
      "|           408|                 NY|                   NJ|       49157|\n",
      "|          1180|                 QN|                   NY|       45226|\n",
      "|          1180|                 BX|                   NY|       15586|\n",
      "|          1111|                 QN|                   NY|       12380|\n",
      "|           408|                  K|                   NJ|       12237|\n",
      "+--------------+-------------------+---------------------+------------+\n",
      "only showing top 10 rows\n",
      "\n"
     ]
    },
    {
     "name": "stderr",
     "output_type": "stream",
     "text": [
      "\r",
      "                                                                                \r"
     ]
    }
   ],
   "source": [
    "spark.sql(\"select t1.* \\\n",
    "from \\\n",
    "(select Law_Section as t1_Law_Section, Violation_County as t1_Violation_County\\\n",
    ", Registration_State as t1_Registration_State, max(count) as t1_max_count \\\n",
    "from max_violation_for_combination group by Law_Section, Violation_County, Registration_State)t1 \\\n",
    "join \\\n",
    "(select Law_Section, Violation_County, Registration_State, count from max_violation_for_combination)t2 \\\n",
    "on t2.Law_Section = t1.t1_Law_Section \\\n",
    "and t2.Violation_County = t1.t1_Violation_County \\\n",
    "and t2.Registration_State = t1.t1_Registration_State \\\n",
    "and t2.count = t1.t1_max_count\").orderBy('t1_max_count',ascending=False).show(10)"
   ]
  },
  {
   "cell_type": "markdown",
   "id": "edea06db",
   "metadata": {},
   "source": [
    "#### The above result shows that the Law 408 was the most violated in the NY county and by the vehicles registered in the state NY. This is quite expected since the entire data set is about the New York State. Let us see which combination comes on top if we take out NY from the data"
   ]
  },
  {
   "cell_type": "code",
   "execution_count": 21,
   "id": "9064abab",
   "metadata": {},
   "outputs": [],
   "source": [
    "df_temp = df_first6months.groupBy(df_first6months.Issue_DayofWeek,\\\n",
    "                                 df_first6months.Violation_County,\\\n",
    "                                 df_first6months.Law_Section,\\\n",
    "                                 df_first6months.Registration_State)\\\n",
    ".count()"
   ]
  },
  {
   "cell_type": "code",
   "execution_count": 22,
   "id": "569e9866",
   "metadata": {},
   "outputs": [],
   "source": [
    "df_temp = df_temp.filter((df_temp.Registration_State != 'NY')&(df_temp.Violation_County != 'NY'))"
   ]
  },
  {
   "cell_type": "code",
   "execution_count": 23,
   "id": "48cafd01",
   "metadata": {},
   "outputs": [],
   "source": [
    "df_temp.createOrReplaceTempView('max_violation_for_combination')"
   ]
  },
  {
   "cell_type": "code",
   "execution_count": 24,
   "id": "7e51aa9c",
   "metadata": {},
   "outputs": [
    {
     "name": "stderr",
     "output_type": "stream",
     "text": [
      "[Stage 33:===========================================>         (166 + 16) / 200]\r"
     ]
    },
    {
     "name": "stdout",
     "output_type": "stream",
     "text": [
      "+--------------+-------------------+---------------------+------------+\n",
      "|t1_Law_Section|t1_Violation_County|t1_Registration_State|t1_max_count|\n",
      "+--------------+-------------------+---------------------+------------+\n",
      "|           408|                  K|                   NJ|       12237|\n",
      "|           408|                  K|                   PA|        6896|\n",
      "|           408|                  Q|                   NJ|        6676|\n",
      "|           408|                 BX|                   NJ|        6477|\n",
      "|          1180|                 BK|                   NJ|        4153|\n",
      "|           408|                  K|                   FL|        3482|\n",
      "|           408|                 BX|                   PA|        3418|\n",
      "|           408|                  Q|                   PA|        3254|\n",
      "|           408|                  Q|                   FL|        2126|\n",
      "|           408|                  K|                   CT|        2122|\n",
      "+--------------+-------------------+---------------------+------------+\n",
      "only showing top 10 rows\n",
      "\n"
     ]
    },
    {
     "name": "stderr",
     "output_type": "stream",
     "text": [
      "\r",
      "                                                                                \r"
     ]
    }
   ],
   "source": [
    "spark.sql(\"select t1.* \\\n",
    "from \\\n",
    "(select Law_Section as t1_Law_Section, Violation_County as t1_Violation_County\\\n",
    ", Registration_State as t1_Registration_State, max(count) as t1_max_count \\\n",
    "from max_violation_for_combination group by Law_Section, Violation_County, Registration_State)t1 \\\n",
    "join \\\n",
    "(select Law_Section, Violation_County, Registration_State, count from max_violation_for_combination)t2 \\\n",
    "on t2.Law_Section = t1.t1_Law_Section \\\n",
    "and t2.Violation_County = t1.t1_Violation_County \\\n",
    "and t2.Registration_State = t1.t1_Registration_State \\\n",
    "and t2.count = t1.t1_max_count\").orderBy('t1_max_count',ascending=False).show(10)"
   ]
  },
  {
   "cell_type": "markdown",
   "id": "137cc89e",
   "metadata": {},
   "source": [
    "#### We can see from above that once again the Law 408 was the most violated but in the K county and by the vehicles registered in the state NJ. "
   ]
  },
  {
   "cell_type": "markdown",
   "id": "98d90cdb",
   "metadata": {},
   "source": [
    "#### Since the number of rows at this level will be very high for visual inspection, we reduce the group to one attribute only"
   ]
  },
  {
   "cell_type": "code",
   "execution_count": 53,
   "id": "2cfd402c",
   "metadata": {},
   "outputs": [
    {
     "data": {
      "text/plain": [
       "['Issue_DayofWeek',\n",
       " 'Violation_County',\n",
       " 'Law_Section',\n",
       " 'Registration_State',\n",
       " 'count']"
      ]
     },
     "execution_count": 53,
     "metadata": {},
     "output_type": "execute_result"
    }
   ],
   "source": [
    "df_temp.columns"
   ]
  },
  {
   "cell_type": "code",
   "execution_count": 26,
   "id": "cb81005d",
   "metadata": {},
   "outputs": [],
   "source": [
    "df_temp = df_temp.withColumn('Issue_DoW',func.concat_ws('_',func.lit('day'),'Issue_DayofWeek'))"
   ]
  },
  {
   "cell_type": "code",
   "execution_count": 29,
   "id": "e7468324",
   "metadata": {},
   "outputs": [],
   "source": [
    "df_temp = df_temp.drop('Issue_DayofWeek').withColumnRenamed('Issue_DoW','Issue_DayofWeek')"
   ]
  },
  {
   "cell_type": "code",
   "execution_count": 30,
   "id": "756f866e",
   "metadata": {},
   "outputs": [
    {
     "name": "stderr",
     "output_type": "stream",
     "text": [
      "[Stage 42:===>                                                    (1 + 15) / 16]\r"
     ]
    },
    {
     "name": "stdout",
     "output_type": "stream",
     "text": [
      "+----------------+-----------+------------------+-----+---------------+\n",
      "|Violation_County|Law_Section|Registration_State|count|Issue_DayofWeek|\n",
      "+----------------+-----------+------------------+-----+---------------+\n",
      "|              BX|        408|                MD|  475|          day_3|\n",
      "|               K|        408|                CA|  526|          day_4|\n",
      "|              QN|       1180|                FL|  575|          day_5|\n",
      "|              BK|       1111|                MA|   61|          day_5|\n",
      "|               R|        408|                VA|   34|          day_3|\n",
      "|              BK|       1180|                SC|  197|          day_5|\n",
      "|               R|        408|                FL|   39|          day_7|\n",
      "|               K|        408|                DC|  102|          day_2|\n",
      "|               K|        408|                TN|  333|          day_5|\n",
      "|              BX|        408|                DE|  209|          day_5|\n",
      "|              QN|       1111|                SC|   31|          day_1|\n",
      "|               K|        408|                NH|  153|          day_2|\n",
      "|              BK|       1180|                VT|   31|          day_3|\n",
      "|              ST|       1180|                NC|   26|          day_5|\n",
      "|              BX|       1180|                AR|    3|          day_4|\n",
      "|              BX|        408|                KY|   37|          day_3|\n",
      "|               K|        408|                HI|    9|          day_4|\n",
      "|              BX|       1111|                NC|   34|          day_6|\n",
      "|               K|        408|                OR|   82|          day_3|\n",
      "|              QN|       1111|                SC|   16|          day_3|\n",
      "|              BX|       1111|                SC|   17|          day_5|\n",
      "|               K|        408|                GV|    8|          day_6|\n",
      "|               Q|        408|                UT|   10|          day_5|\n",
      "|              QN|       1111|                KY|    5|          day_3|\n",
      "|              MN|       1111|                ME|    2|          day_5|\n",
      "|              ST|       1180|                RI|    4|          day_3|\n",
      "|              QN|       1111|                WA|    5|          day_6|\n",
      "|               R|        408|                VT|    2|          day_4|\n",
      "|              BX|       1180|                AL|    5|          day_2|\n",
      "|              BK|       1111|                AL|    2|          day_7|\n",
      "|              MN|       1111|                MS|    1|          day_4|\n",
      "|              MN|       1111|                LA|    1|          day_2|\n",
      "|              ST|       1111|                CT|    2|          day_3|\n",
      "|              BX|       1111|                NV|    1|          day_7|\n",
      "|              ST|       1180|                MN|    2|          day_3|\n",
      "|              QN|       1111|                MT|    1|          day_5|\n",
      "|              ST|       1111|                ME|    1|          day_6|\n",
      "|              BX|        408|                99|  267|          day_7|\n",
      "|               Q|        408|                MD|  261|          day_1|\n",
      "|              BK|       1111|                AZ|   42|          day_6|\n",
      "|              BK|       1111|                GA|   82|          day_5|\n",
      "|               Q|        408|                TX|  510|          day_2|\n",
      "|               K|        408|                NH|  198|          day_6|\n",
      "|              BX|       1111|                MA|   21|          day_3|\n",
      "|              ST|       1111|                NJ|  348|          day_5|\n",
      "|              BX|        408|                MI|  108|          day_4|\n",
      "|               Q|        408|                WA|   79|          day_4|\n",
      "|              BX|        408|                NV|    9|          day_3|\n",
      "|               K|        408|                NS|   19|          day_5|\n",
      "|              BX|        408|                MS|   19|          day_5|\n",
      "|              BK|       1180|                ON|    1|          day_4|\n",
      "|              BX|       1180|                AZ|   18|          day_2|\n",
      "|              QN|       1111|                MN|    2|          day_3|\n",
      "|              QN|       1111|                LA|    2|          day_7|\n",
      "|              QN|       1111|                KY|    5|          day_7|\n",
      "|              BX|        408|                NM|    4|          day_2|\n",
      "|               R|        408|                NH|    2|          day_2|\n",
      "|              MN|       1111|                UT|    1|          day_6|\n",
      "|               K|        408|                WV|   70|          day_2|\n",
      "|               K|        408|                MI|  305|          day_4|\n",
      "|              BK|       1180|                OH|  105|          day_5|\n",
      "|               Q|        408|                PA|  806|          day_1|\n",
      "|               K|        408|                AL|  223|          day_5|\n",
      "|              BK|       1111|                OH|   22|          day_5|\n",
      "|               Q|        408|                PE|    1|          day_3|\n",
      "|               Q|        408|                AR|   15|          day_7|\n",
      "|              QN|       1111|                MO|    4|          day_7|\n",
      "|              BX|       1111|                MI|    6|          day_1|\n",
      "|              BX|       1180|                NM|    1|          day_6|\n",
      "|               K|        408|                OH|  130|          day_1|\n",
      "|               Q|        408|                DP|   20|          day_6|\n",
      "|              BK|       1111|                MS|    7|          day_3|\n",
      "|              ST|       1180|                PA|  168|          day_6|\n",
      "|               K|        408|                OR|   84|          day_6|\n",
      "|              BX|        408|                MS|   26|          day_3|\n",
      "|              BX|       1180|                WV|    4|          day_4|\n",
      "|              QN|       1111|                CA|   17|          day_2|\n",
      "|              QN|       1111|                ME|    5|          day_2|\n",
      "|              BK|       1111|                MS|    5|          day_5|\n",
      "|              QN|       1111|                IL|   20|          day_2|\n",
      "|               K|        408|                ON|   28|          day_1|\n",
      "|              BK|       1180|                OK|   18|          day_3|\n",
      "|               R|        408|                NC|   17|          day_5|\n",
      "|              BX|        408|                DP|    6|          day_6|\n",
      "|              ST|       1180|                TX|   11|          day_3|\n",
      "|              QN|       1180|                UT|    4|          day_4|\n",
      "|               R|        408|                MO|    2|          day_2|\n",
      "|              BK|       1180|                ON|    4|          day_6|\n",
      "|              MN|       1180|                GA|    6|          day_4|\n",
      "|              ST|       1111|                OH|    2|          day_3|\n",
      "|               Q|        408|                DE|   50|          day_1|\n",
      "|              BK|       1180|                VA|  520|          day_4|\n",
      "|              MN|       1180|                PA|   89|          day_2|\n",
      "|               Q|        408|                IL|  518|          day_6|\n",
      "|              BX|        408|                VA|  701|          day_6|\n",
      "|              BK|       1180|                MD|  382|          day_4|\n",
      "|              BK|       1180|                MO|   15|          day_2|\n",
      "|              MN|       1111|                RI|    4|          day_1|\n",
      "|              MN|       1111|                DE|    5|          day_7|\n",
      "|               R|        408|                MA|   17|          day_4|\n",
      "+----------------+-----------+------------------+-----+---------------+\n",
      "only showing top 100 rows\n",
      "\n"
     ]
    },
    {
     "name": "stderr",
     "output_type": "stream",
     "text": [
      "\r",
      "[Stage 42:=======>                                                (2 + 14) / 16]\r",
      "\r",
      "                                                                                \r"
     ]
    }
   ],
   "source": [
    "df_temp.show(100)"
   ]
  },
  {
   "cell_type": "code",
   "execution_count": 31,
   "id": "66492f0d",
   "metadata": {},
   "outputs": [
    {
     "name": "stderr",
     "output_type": "stream",
     "text": [
      "[Stage 53:=============================================>       (172 + 16) / 200]\r"
     ]
    },
    {
     "name": "stdout",
     "output_type": "stream",
     "text": [
      "+-----------+-----+-----+-----+-----+-----+-----+-----+\n",
      "|Law_Section|day_1|day_2|day_3|day_4|day_5|day_6|day_7|\n",
      "+-----------+-----+-----+-----+-----+-----+-----+-----+\n",
      "|       1111| 6913| 6157| 5952| 6221| 6556| 7419| 6419|\n",
      "|        408|23178|79506|87375|71419|86777|84599|63048|\n",
      "+-----------+-----+-----+-----+-----+-----+-----+-----+\n",
      "\n"
     ]
    },
    {
     "name": "stderr",
     "output_type": "stream",
     "text": [
      "\r",
      "                                                                                \r"
     ]
    }
   ],
   "source": [
    "df_pivot = df_temp.groupBy('Law_Section').pivot('Issue_DayofWeek').sum('count')\n",
    "df_pivot = df_pivot.dropna(how='any')\n",
    "df_pivot.show(10)"
   ]
  },
  {
   "cell_type": "markdown",
   "id": "cc0ce47d",
   "metadata": {},
   "source": [
    "#### The above cell shows that the Law 408 is the most violated throughout the week"
   ]
  },
  {
   "cell_type": "code",
   "execution_count": 32,
   "id": "5ac2a998",
   "metadata": {},
   "outputs": [
    {
     "name": "stderr",
     "output_type": "stream",
     "text": [
      "[Stage 76:===>                                                    (1 + 15) / 16]\r"
     ]
    },
    {
     "name": "stdout",
     "output_type": "stream",
     "text": [
      "+----------------+-----+-----+-----+-----+-----+-----+-----+\n",
      "|Violation_County|day_1|day_2|day_3|day_4|day_5|day_6|day_7|\n",
      "+----------------+-----+-----+-----+-----+-----+-----+-----+\n",
      "|               K|10093|37675|42826|31371|41854|39254|26996|\n",
      "|              MN|  682| 1514| 1452| 1500| 1513| 1668|  726|\n",
      "|               Q| 5723|22064|23171|22225|23756|23558|18881|\n",
      "|              BX| 7775|21666|23589|20154|23301|24396|17216|\n",
      "|              QN| 2284| 5425| 5457| 6482| 6085| 6886| 2058|\n",
      "|              BK| 2693|11709|12077|13475|12723|12990| 2335|\n",
      "|               R|  336| 1086| 1046| 1158| 1054| 1073|  714|\n",
      "|              ST|  505| 1548| 1544| 1770| 1769| 1907|  541|\n",
      "+----------------+-----+-----+-----+-----+-----+-----+-----+\n",
      "\n"
     ]
    },
    {
     "name": "stderr",
     "output_type": "stream",
     "text": [
      "\r",
      "                                                                                \r"
     ]
    }
   ],
   "source": [
    "df_pivot = df_temp.groupBy('Violation_County').pivot('Issue_DayofWeek').sum('count')\n",
    "df_pivot = df_pivot.dropna(how='any')\n",
    "df_pivot.show(100)"
   ]
  },
  {
   "cell_type": "markdown",
   "id": "2db44f82",
   "metadata": {},
   "source": [
    "#### The above result shows that the K county has the most number of violations throughout the week"
   ]
  },
  {
   "cell_type": "code",
   "execution_count": 48,
   "id": "7a79c979",
   "metadata": {},
   "outputs": [
    {
     "name": "stderr",
     "output_type": "stream",
     "text": [
      "                                                                                \r"
     ]
    }
   ],
   "source": [
    "colmToOrderBy = df_temp.select(func.collect_set('Issue_DayofWeek')\\\n",
    "                               .alias('Issue_DayofWeek')).first()['Issue_DayofWeek']"
   ]
  },
  {
   "cell_type": "code",
   "execution_count": 49,
   "id": "b77b022f",
   "metadata": {},
   "outputs": [
    {
     "name": "stderr",
     "output_type": "stream",
     "text": [
      "[Stage 150:================================================>   (186 + 14) / 200]\r"
     ]
    },
    {
     "name": "stdout",
     "output_type": "stream",
     "text": [
      "+------------------+-----+-----+-----+-----+-----+-----+-----+\n",
      "|Registration_State|day_1|day_2|day_3|day_4|day_5|day_6|day_7|\n",
      "+------------------+-----+-----+-----+-----+-----+-----+-----+\n",
      "|                NJ| 8684|30896|34238|32486|35140|34691|20063|\n",
      "|                PA| 4764|16204|17790|15068|17805|17616|11107|\n",
      "|                FL| 2380| 9027| 9537| 8634| 9549| 9636| 5503|\n",
      "|                CT| 2398| 6776| 7072| 5917| 7186| 7205| 5676|\n",
      "|                VA| 1251| 4310| 4320| 3683| 4344| 4521| 2870|\n",
      "|                MA| 1369| 3882| 3824| 3077| 3731| 4119| 3021|\n",
      "|                NC|  955| 3457| 3551| 2947| 3630| 3533| 2231|\n",
      "|                MD| 1091| 3359| 3393| 2908| 3439| 3624| 2762|\n",
      "|                GA|  617| 2389| 2482| 2145| 2606| 2589| 1392|\n",
      "|                IL|  415| 1753| 2129| 1762| 1904| 1942| 1210|\n",
      "+------------------+-----+-----+-----+-----+-----+-----+-----+\n",
      "only showing top 10 rows\n",
      "\n"
     ]
    },
    {
     "name": "stderr",
     "output_type": "stream",
     "text": [
      "\r",
      "                                                                                \r"
     ]
    }
   ],
   "source": [
    "df_pivot = df_temp.groupBy('Registration_State').pivot('Issue_DayofWeek').agg(func.sum('count'))\n",
    "df_pivot = df_pivot.dropna(how='any')\n",
    "df_pivot.orderBy(colmToOrderBy, ascending=False).show(10)"
   ]
  },
  {
   "cell_type": "markdown",
   "id": "90a5421a",
   "metadata": {},
   "source": [
    "#### This shows that the NJ registered vehicles are the most common offenders throughout the week"
   ]
  },
  {
   "cell_type": "markdown",
   "id": "3049a921",
   "metadata": {},
   "source": [
    "### Overall conclusion based on 2017 data: \n",
    "#### The Law 408 is the most violated by vehicles registered in NY and NJ. \n",
    "#### These violations are most common in K and NY counties. \n",
    "#### The violations are most common during the weekdays\n",
    "#### The violations mostly occur in the beginning or ending of a month\n",
    "#### Violations are more during the first half of the year"
   ]
  },
  {
   "cell_type": "code",
   "execution_count": null,
   "id": "17409ff3",
   "metadata": {},
   "outputs": [],
   "source": []
  }
 ],
 "metadata": {
  "kernelspec": {
   "display_name": "Python 3 (ipykernel)",
   "language": "python",
   "name": "python3"
  },
  "language_info": {
   "codemirror_mode": {
    "name": "ipython",
    "version": 3
   },
   "file_extension": ".py",
   "mimetype": "text/x-python",
   "name": "python",
   "nbconvert_exporter": "python",
   "pygments_lexer": "ipython3",
   "version": "3.8.2"
  }
 },
 "nbformat": 4,
 "nbformat_minor": 5
}
